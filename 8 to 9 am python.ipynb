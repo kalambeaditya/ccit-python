{
 "cells": [
  {
   "cell_type": "markdown",
   "id": "f1baefa5",
   "metadata": {},
   "source": [
    "#### Abstract classes and abstract methods\n",
    "\n",
    "1. If a method is defined as abstract then the class will automatically become abstract class.\n",
    "2. We cannot create object of abstract class.\n",
    "3. Such classes are used to achieve polymorphism.\n",
    "3. Multiple classes can be derived from an abstract class.\n",
    "4. Whenever a class is defines from abstract class it has to override all abstract methods of base class otherwise the derived class will also become a abstract class."
   ]
  },
  {
   "cell_type": "markdown",
   "id": "fe697edf",
   "metadata": {},
   "source": [
    "#### Python abstract method\n",
    "\n",
    "1. In fact python on its own doesn't provided abstract class.\n",
    "2. Python comes with module which provide the infrastructure for defining abstract base classes ABCs. This module is calles as abc.\n",
    "3. In python an abstract class must be derived from class ABC.\n",
    "4. All abstract methods of this abstract class must be defined with decorator (attribute) @abstractmethod."
   ]
  },
  {
   "cell_type": "code",
   "execution_count": 13,
   "id": "f3f9a27c",
   "metadata": {},
   "outputs": [
    {
     "ename": "TypeError",
     "evalue": "Can't instantiate abstract class Shape with abstract methods area",
     "output_type": "error",
     "traceback": [
      "\u001b[1;31m---------------------------------------------------------------------------\u001b[0m",
      "\u001b[1;31mTypeError\u001b[0m                                 Traceback (most recent call last)",
      "\u001b[1;32m<ipython-input-13-57368771454f>\u001b[0m in \u001b[0;36m<module>\u001b[1;34m\u001b[0m\n\u001b[0;32m      5\u001b[0m     \u001b[1;32mdef\u001b[0m \u001b[0marea\u001b[0m\u001b[1;33m(\u001b[0m\u001b[0mself\u001b[0m\u001b[1;33m)\u001b[0m\u001b[1;33m:\u001b[0m\u001b[1;33m\u001b[0m\u001b[1;33m\u001b[0m\u001b[0m\n\u001b[0;32m      6\u001b[0m         \u001b[1;32mpass\u001b[0m\u001b[1;33m\u001b[0m\u001b[1;33m\u001b[0m\u001b[0m\n\u001b[1;32m----> 7\u001b[1;33m \u001b[0ma\u001b[0m\u001b[1;33m=\u001b[0m\u001b[0mShape\u001b[0m\u001b[1;33m(\u001b[0m\u001b[1;33m)\u001b[0m\u001b[1;33m\u001b[0m\u001b[1;33m\u001b[0m\u001b[0m\n\u001b[0m\u001b[0;32m      8\u001b[0m \u001b[1;31m#it gives compile time error\u001b[0m\u001b[1;33m\u001b[0m\u001b[1;33m\u001b[0m\u001b[1;33m\u001b[0m\u001b[0m\n\u001b[0;32m      9\u001b[0m \u001b[1;31m#we cannot create an object of class Shape as shape in an abstract class\u001b[0m\u001b[1;33m\u001b[0m\u001b[1;33m\u001b[0m\u001b[1;33m\u001b[0m\u001b[0m\n",
      "\u001b[1;31mTypeError\u001b[0m: Can't instantiate abstract class Shape with abstract methods area"
     ]
    }
   ],
   "source": [
    "#Design a class shape containing abstract method area\n",
    "from abc import ABC, abstractmethod\n",
    "class Shape(ABC):\n",
    "    @abstractmethod\n",
    "    def area(self):\n",
    "        pass\n",
    "a=Shape()\n",
    "#it gives compile time error\n",
    "#we cannot create an object of class Shape as shape in an abstract class"
   ]
  },
  {
   "cell_type": "code",
   "execution_count": 14,
   "id": "28c27bd6",
   "metadata": {},
   "outputs": [
    {
     "name": "stdout",
     "output_type": "stream",
     "text": [
      "Area of cicle is  78.5\n",
      "Area of rectangle is  30\n"
     ]
    }
   ],
   "source": [
    "#design two classes circle and rectangle that they must contain a method area\n",
    "\n",
    "from abc import ABC, abstractmethod\n",
    "\n",
    "class Shape(ABC):\n",
    "    @abstractmethod\n",
    "    def area(self):\n",
    "        pass\n",
    "    \n",
    "class Circle(Shape):\n",
    "    def __init__(self,radius):\n",
    "        self.radius=radius\n",
    "    def area(self):\n",
    "        a=3.14 * self.radius ** 2\n",
    "        print(\"Area of cicle is \",a)\n",
    "\n",
    "class Rectangle(Shape):\n",
    "    def __init__(self,length,breadth):\n",
    "        self.length=length\n",
    "        self.breadth=breadth\n",
    "    def area(self):\n",
    "        a = self.length * self.breadth\n",
    "        print(\"Area of rectangle is \",a)\n",
    "\n",
    "a = Circle(5)\n",
    "a.area()\n",
    "b = Rectangle(5,6)\n",
    "b.area()"
   ]
  },
  {
   "cell_type": "code",
   "execution_count": 17,
   "id": "91cc8bcf",
   "metadata": {},
   "outputs": [
    {
     "name": "stdout",
     "output_type": "stream",
     "text": [
      "Account number:  4117\n",
      "Balance:  5000\n",
      "Balance  9999\n",
      "Insufficient Balance\n",
      "Balance:  1\n",
      "Account number:  4117\n",
      "Balance:  5000\n",
      "Balance  10000\n",
      "Balance:  9000\n",
      "Balance:  4500\n"
     ]
    }
   ],
   "source": [
    "# design two classes SAccount and CAccount \n",
    "# DM --> accno, balance\n",
    "# MF --> Account(an,bl) , showBalance() , Deposit() , Withdraw()\n",
    "# deposit and withdraw must be abstract as both method have different rules for different types of account\n",
    "# RULES\n",
    "\"\"\"\n",
    "CAccount:\n",
    "    will charge 1 rupee for each transtion\n",
    "    minimum balance is 0\n",
    "    \n",
    "SAccount:\n",
    "    will allow max 100000\n",
    "    min balance is 500\n",
    "\"\"\"\n",
    "\n",
    "from abc import ABC, abstractmethod\n",
    "\n",
    "class Account(ABC):\n",
    "    def __init__(self,accno,bal):\n",
    "        self.accno = accno\n",
    "        self.balance = bal\n",
    "        \n",
    "    def showBalance(self):\n",
    "        print(\"Account number: \",self.accno)\n",
    "        print(\"Balance: \",self.balance)\n",
    "        \n",
    "    @abstractmethod\n",
    "    def deposit(self):\n",
    "        pass\n",
    "    \n",
    "    @abstractmethod\n",
    "    def withdraw(self):\n",
    "        pass\n",
    "\n",
    "class CAccount(Account):\n",
    "    def deposit(self,amt):\n",
    "        self.balance = self.balance + amt - 1\n",
    "        print(\"Balance \",self.balance)\n",
    "    def withdraw(self,amt):\n",
    "        if self.balance - amt - 1 < 0 :\n",
    "            print(\"Insufficient Balance\")\n",
    "        else:\n",
    "            self.balance = self.balance - amt - 1\n",
    "            print(\"Balance: \",self.balance)\n",
    "\n",
    "class SAccount(Account):\n",
    "    def deposit(self,amt):\n",
    "        self.balance = self.balance + amt\n",
    "        print(\"Balance \",self.balance)\n",
    "    def withdraw(self,amt):\n",
    "        if self.balance - amt < 500 :\n",
    "            print(\"Insufficient Balance\")\n",
    "        else:\n",
    "            self.balance = self.balance - amt\n",
    "            print(\"Balance: \",self.balance)    \n",
    "            \n",
    "a = CAccount(4117,5000)\n",
    "a.showBalance()\n",
    "a.deposit(5000)\n",
    "a.withdraw(10000)\n",
    "a.withdraw(9997)\n",
    "\n",
    "b = SAccount(4117,5000)\n",
    "b.showBalance()\n",
    "b.deposit(5000)\n",
    "b.withdraw(1000)\n",
    "b.withdraw(4500)"
   ]
  },
  {
   "cell_type": "markdown",
   "id": "840a98ae",
   "metadata": {},
   "source": [
    "# 17 SEPT 2021\n"
   ]
  },
  {
   "cell_type": "markdown",
   "id": "24f02f8f",
   "metadata": {},
   "source": [
    "### Module\n",
    "1. Amodule is a simply apyhon file where classs , functions and variables are defined.\n",
    "2. This modules can be important in our project whenever required\n",
    "3. There are two types of modules\n",
    "    1. Built-in module\n",
    "    2. User-defined module\n",
    "        "
   ]
  },
  {
   "cell_type": "markdown",
   "id": "d19f16d4",
   "metadata": {},
   "source": [
    "#### Built-in module\n",
    "\n",
    "- some polular modules in python are\n",
    "    1. math \n",
    "        - for mathematical function\n",
    "    2. thrading \n",
    "        - multithreading application\n",
    "    3. collections \n",
    "        - additional collection class\n",
    "    4. os \n",
    "        - operating system related\n",
    "    5. re \n",
    "        - text processing\n",
    "    6. random \n",
    "        - random number generation\n",
    "    7. pickle \n",
    "        - used to  \n",
    "    8. nltk \n",
    "        - natural language processing\n",
    "    9. datetime \n",
    "        - used to perform operations on date and time data\n",
    "    10. tkinter \n",
    "        - for gui interface\n",
    "    11. scokets \n",
    "        - for network programming"
   ]
  },
  {
   "cell_type": "markdown",
   "id": "e0a48f0d",
   "metadata": {},
   "source": [
    "####  Importing Module\n",
    "\n",
    "#####  import  statement\n",
    "    - It is used to import a module.\n",
    "    - Syntax:-\n",
    "        import module_name1, module_name2,...\n",
    "        ex:-\n",
    "            import mylib,math,random\n",
    "            \n",
    "##### from import statement\n",
    "    - It is used to import particular attribute from a module.\n",
    "    - Syntax:-\n",
    "        from module_name import module_name1,module_name2,...\n",
    "        ex:-\n",
    "            from mylib import circle\n",
    "\n",
    "##### Renamig a module\n",
    "    - we can create an alias when we import a module.\n",
    "    - syntax:-\n",
    "        import module_name as alias_name\n",
    "        ex:-\n",
    "            import pandas as pd"
   ]
  },
  {
   "cell_type": "markdown",
   "id": "9c7f9c5b",
   "metadata": {},
   "source": [
    "####  User defined modules\n",
    "\n",
    "- it is a module that is created by te user so that module can be use by himself or by other users in other programmers.\n",
    "\n",
    "- steps to create a module\n",
    "    1. Create a file having same name as module name.\n",
    "    2. In that file we can define any type of components such as functions, variables, classes, objects, etc\n",
    "    \n",
    "   - NOTE: \n",
    "        1. import statement\n",
    "        - If import statement is used toimport a module then the components of that module can be accessed by using\n",
    "        - Syntax:- module_name.Component_Name\n",
    "        - ex:-\n",
    "            - from mylib import circle\n",
    "            - a = circle()\n",
    "            - a.setradius(5)\n",
    "            - a.area()\n",
    "   - NOTE:\n",
    "        2. from import statement\n",
    "        - If from import statement is used to import an components of the mokdule then components of that module can be accessed by using\n",
    "        - syntax:- component_name\n",
    "        - ex:- a = circle(), b=rect()\n",
    "        - we can use * to import all the componentsfrom a module.\n",
    "        - syntax:- from module_name import *\n",
    "     - NOTE:  \n",
    "        - If mdules or cmponents have lenghty names then we can use some shortnames for them\n",
    "        - syntax:- Alias_module_name.Component_Name\n",
    "                   Alias_Component_Name.\n",
    "        \n",
    "        "
   ]
  },
  {
   "cell_type": "markdown",
   "id": "eed5a699",
   "metadata": {},
   "source": [
    "# 01/10/2021"
   ]
  },
  {
   "cell_type": "markdown",
   "id": "4198978b",
   "metadata": {},
   "source": [
    "### Strings\n",
    "\n",
    "- string object are automaticallly created when we enclose contents in single quote(' '), double quote(\" \"), and triple(\"\"\" \"\"\")\n",
    "- for example:"
   ]
  },
  {
   "cell_type": "code",
   "execution_count": 18,
   "id": "942df3b5",
   "metadata": {},
   "outputs": [
    {
     "data": {
      "text/plain": [
       "'amit jain'"
      ]
     },
     "execution_count": 18,
     "metadata": {},
     "output_type": "execute_result"
    }
   ],
   "source": [
    "s1='amit jain'\n",
    "s1"
   ]
  },
  {
   "cell_type": "code",
   "execution_count": 19,
   "id": "93eaeeca",
   "metadata": {},
   "outputs": [
    {
     "data": {
      "text/plain": [
       "'amit jain'"
      ]
     },
     "execution_count": 19,
     "metadata": {},
     "output_type": "execute_result"
    }
   ],
   "source": [
    "s2 = \"amit jain\"\n",
    "s2"
   ]
  },
  {
   "cell_type": "code",
   "execution_count": 20,
   "id": "9d19a0e2",
   "metadata": {},
   "outputs": [
    {
     "data": {
      "text/plain": [
       "' This is the paragraph.  it is made up of multiple lines and statements'"
      ]
     },
     "execution_count": 20,
     "metadata": {},
     "output_type": "execute_result"
    }
   ],
   "source": [
    "s3 = \"\"\" This is the paragraph.  it is made up of multiple lines and statements\"\"\"\n",
    "s3"
   ]
  },
  {
   "cell_type": "markdown",
   "id": "e7c25b4a",
   "metadata": {},
   "source": [
    "#### NOTE: \n",
    "1. objects of strings are immutable\n",
    "2. contents of string object cannot be changed once it is created"
   ]
  },
  {
   "cell_type": "markdown",
   "id": "374942cd",
   "metadata": {},
   "source": [
    "#####  Methods of class string\n",
    "- upper() \n",
    "    - returns a string converted to uppercase\n",
    "    - for ex:\n",
    "        - a= \"ccit\"\n",
    "        -print(a.upper())      => CCIT\n",
    "- lower()\n",
    "    - returns the string converted to lowercase\n",
    "    - for ex:\n",
    "        - a=\"CCit\"\n",
    "        - print(a.lower())       => ccit\n",
    "- title()\n",
    "    - returns all words begin with upperase and the rest are in lowercase.\n",
    "    - for ex:\n",
    "        - a=\"adi kalam\"\n",
    "        - print(a.title())  => Adi Kalam\n",
    "- capitalize()\n",
    "    - capitalize first letter of string\n",
    "    - for ex:\n",
    "        - a=\"adi kalam\"\n",
    "        - print(a.capitalize()) => Adi kala\n",
    "- swapcase()\n",
    "    - inverts case for all letters in string.\n",
    "    - for ex:\n",
    "        - a=\"ccIT\"\n",
    "        - print(a.swapcase()) => CCit\n",
    "- is alpha()\n",
    "    - return true if all charaters are alphabates else false.\n",
    "    - for ex:"
   ]
  },
  {
   "cell_type": "code",
   "execution_count": 21,
   "id": "7f43e1bb",
   "metadata": {},
   "outputs": [
    {
     "data": {
      "text/plain": [
       "True"
      ]
     },
     "execution_count": 21,
     "metadata": {},
     "output_type": "execute_result"
    }
   ],
   "source": [
    "a = \"Ccit\"\n",
    "a.isalpha()"
   ]
  },
  {
   "cell_type": "code",
   "execution_count": 22,
   "id": "a1fbf8b0",
   "metadata": {},
   "outputs": [
    {
     "data": {
      "text/plain": [
       "False"
      ]
     },
     "execution_count": 22,
     "metadata": {},
     "output_type": "execute_result"
    }
   ],
   "source": [
    "b = \"12ka4\"\n",
    "b.isalpha()"
   ]
  },
  {
   "cell_type": "markdown",
   "id": "51e9e44d",
   "metadata": {},
   "source": [
    "- isdigit()\n",
    "    - returns true if string contains only digits otherwise false.\n",
    "    - for ex:"
   ]
  },
  {
   "cell_type": "code",
   "execution_count": 23,
   "id": "12ecb9e4",
   "metadata": {},
   "outputs": [
    {
     "data": {
      "text/plain": [
       "True"
      ]
     },
     "execution_count": 23,
     "metadata": {},
     "output_type": "execute_result"
    }
   ],
   "source": [
    "a=\"1234\"\n",
    "a.isdigit()"
   ]
  },
  {
   "cell_type": "code",
   "execution_count": 24,
   "id": "6b4d7326",
   "metadata": {},
   "outputs": [
    {
     "data": {
      "text/plain": [
       "False"
      ]
     },
     "execution_count": 24,
     "metadata": {},
     "output_type": "execute_result"
    }
   ],
   "source": [
    "b=\"1234a\"\n",
    "b.isdigit()"
   ]
  },
  {
   "cell_type": "markdown",
   "id": "b74a3449",
   "metadata": {},
   "source": [
    "- islower()\n",
    "    - check all the alphates are in lower case or not\n",
    "    - for ex:"
   ]
  },
  {
   "cell_type": "code",
   "execution_count": 25,
   "id": "4fc00398",
   "metadata": {},
   "outputs": [
    {
     "data": {
      "text/plain": [
       "False"
      ]
     },
     "execution_count": 25,
     "metadata": {},
     "output_type": "execute_result"
    }
   ],
   "source": [
    "a=\"CCit\"\n",
    "a.islower()"
   ]
  },
  {
   "cell_type": "code",
   "execution_count": 26,
   "id": "70d1b8ff",
   "metadata": {},
   "outputs": [
    {
     "data": {
      "text/plain": [
       "True"
      ]
     },
     "execution_count": 26,
     "metadata": {},
     "output_type": "execute_result"
    }
   ],
   "source": [
    "a=\"ak47\"\n",
    "a.islower()"
   ]
  },
  {
   "cell_type": "markdown",
   "id": "f1ee55de",
   "metadata": {},
   "source": [
    "- isupper()\n",
    "    - check all the alphates are in upper case or not\n",
    "    - for ex:"
   ]
  },
  {
   "cell_type": "code",
   "execution_count": 27,
   "id": "47ae3f5c",
   "metadata": {},
   "outputs": [
    {
     "data": {
      "text/plain": [
       "False"
      ]
     },
     "execution_count": 27,
     "metadata": {},
     "output_type": "execute_result"
    }
   ],
   "source": [
    "a=\"ccIT\"\n",
    "a.isupper()"
   ]
  },
  {
   "cell_type": "code",
   "execution_count": 28,
   "id": "0213c615",
   "metadata": {},
   "outputs": [
    {
     "data": {
      "text/plain": [
       "True"
      ]
     },
     "execution_count": 28,
     "metadata": {},
     "output_type": "execute_result"
    }
   ],
   "source": [
    "a=\"AK47\"\n",
    "a.isupper()"
   ]
  },
  {
   "cell_type": "markdown",
   "id": "ae017bef",
   "metadata": {},
   "source": [
    "- isdigit()\n",
    "    - return true if string contains "
   ]
  },
  {
   "cell_type": "code",
   "execution_count": 29,
   "id": "bce9ea89",
   "metadata": {},
   "outputs": [
    {
     "data": {
      "text/plain": [
       "False"
      ]
     },
     "execution_count": 29,
     "metadata": {},
     "output_type": "execute_result"
    }
   ],
   "source": [
    "a=\"12ak\"\n",
    "a.isdigit()"
   ]
  },
  {
   "cell_type": "code",
   "execution_count": 30,
   "id": "39a1d175",
   "metadata": {},
   "outputs": [
    {
     "data": {
      "text/plain": [
       "True"
      ]
     },
     "execution_count": 30,
     "metadata": {},
     "output_type": "execute_result"
    }
   ],
   "source": [
    "b=\"123654\"\n",
    "b.isdigit()"
   ]
  },
  {
   "cell_type": "markdown",
   "id": "045cf6fa",
   "metadata": {},
   "source": [
    "- isspace()\n",
    "    - returns true if string contains only white space\n",
    "    - for ex:"
   ]
  },
  {
   "cell_type": "code",
   "execution_count": 31,
   "id": "30b833d0",
   "metadata": {},
   "outputs": [
    {
     "data": {
      "text/plain": [
       "False"
      ]
     },
     "execution_count": 31,
     "metadata": {},
     "output_type": "execute_result"
    }
   ],
   "source": [
    "a=\"ccit amt\"\n",
    "a.isspace()"
   ]
  },
  {
   "cell_type": "code",
   "execution_count": 32,
   "id": "061bc9ba",
   "metadata": {},
   "outputs": [
    {
     "data": {
      "text/plain": [
       "True"
      ]
     },
     "execution_count": 32,
     "metadata": {},
     "output_type": "execute_result"
    }
   ],
   "source": [
    "a=\" \"\n",
    "a.isspace()"
   ]
  },
  {
   "cell_type": "markdown",
   "id": "4f499ded",
   "metadata": {},
   "source": [
    "- isalnum()\n",
    "    - returns true if all charaters are alphanumericals.\n",
    "    - for ex:"
   ]
  },
  {
   "cell_type": "code",
   "execution_count": 34,
   "id": "54a03b24",
   "metadata": {},
   "outputs": [
    {
     "data": {
      "text/plain": [
       "False"
      ]
     },
     "execution_count": 34,
     "metadata": {},
     "output_type": "execute_result"
    }
   ],
   "source": [
    "a=\"CCIT amt\"\n",
    "a.isalnum()"
   ]
  },
  {
   "cell_type": "code",
   "execution_count": 35,
   "id": "4e7a5ed4",
   "metadata": {},
   "outputs": [
    {
     "data": {
      "text/plain": [
       "True"
      ]
     },
     "execution_count": 35,
     "metadata": {},
     "output_type": "execute_result"
    }
   ],
   "source": [
    "a=\"AK47\"\n",
    "a.isalnum()"
   ]
  },
  {
   "cell_type": "markdown",
   "id": "c5ace0b1",
   "metadata": {},
   "source": [
    "- lstrip([chars])\n",
    "    - removes all leading whitespace/chars in strings from left\n",
    "- rstrip([chars])\n",
    "    - removes all leading whitespace/chars in strings from right\n",
    "- strip([chars])\n",
    "    - perform both lstrip() and rstrip() on string\n",
    "    \n",
    "- for ex:"
   ]
  },
  {
   "cell_type": "code",
   "execution_count": 36,
   "id": "a83cc32c",
   "metadata": {},
   "outputs": [
    {
     "data": {
      "text/plain": [
       "'Amravati'"
      ]
     },
     "execution_count": 36,
     "metadata": {},
     "output_type": "execute_result"
    }
   ],
   "source": [
    "a=\"ccitAmravati\"\n",
    "a.lstrip(\"cati\")"
   ]
  },
  {
   "cell_type": "code",
   "execution_count": 37,
   "id": "32c38c55",
   "metadata": {},
   "outputs": [
    {
     "data": {
      "text/plain": [
       "'mravati'"
      ]
     },
     "execution_count": 37,
     "metadata": {},
     "output_type": "execute_result"
    }
   ],
   "source": [
    "b=\"ccitamravati\"\n",
    "b.lstrip(\"cati\")"
   ]
  },
  {
   "cell_type": "code",
   "execution_count": 38,
   "id": "7b6e35fb",
   "metadata": {},
   "outputs": [
    {
     "data": {
      "text/plain": [
       "'ccitAmr'"
      ]
     },
     "execution_count": 38,
     "metadata": {},
     "output_type": "execute_result"
    }
   ],
   "source": [
    "a.rstrip(\"avti\")"
   ]
  },
  {
   "cell_type": "code",
   "execution_count": 39,
   "id": "6e121064",
   "metadata": {},
   "outputs": [
    {
     "data": {
      "text/plain": [
       "'ccitamrav'"
      ]
     },
     "execution_count": 39,
     "metadata": {},
     "output_type": "execute_result"
    }
   ],
   "source": [
    "b.rstrip(\"ccati\")"
   ]
  },
  {
   "cell_type": "code",
   "execution_count": 40,
   "id": "6296c417",
   "metadata": {},
   "outputs": [
    {
     "data": {
      "text/plain": [
       "'ccitamr'"
      ]
     },
     "execution_count": 40,
     "metadata": {},
     "output_type": "execute_result"
    }
   ],
   "source": [
    "b.rstrip(\"ccavti\")"
   ]
  },
  {
   "cell_type": "code",
   "execution_count": 41,
   "id": "4f176825",
   "metadata": {},
   "outputs": [
    {
     "data": {
      "text/plain": [
       "'tAmravat'"
      ]
     },
     "execution_count": 41,
     "metadata": {},
     "output_type": "execute_result"
    }
   ],
   "source": [
    "a.strip(\"ci\")"
   ]
  },
  {
   "cell_type": "code",
   "execution_count": 42,
   "id": "faca8e1e",
   "metadata": {},
   "outputs": [
    {
     "data": {
      "text/plain": [
       "'tamravat'"
      ]
     },
     "execution_count": 42,
     "metadata": {},
     "output_type": "execute_result"
    }
   ],
   "source": [
    "b.strip(\"ci\")"
   ]
  },
  {
   "cell_type": "markdown",
   "id": "8ac6ae9f",
   "metadata": {},
   "source": [
    "- lstrip([ch])\n",
    "- rstrip([ch])\n",
    "- strip([ch])"
   ]
  },
  {
   "cell_type": "markdown",
   "id": "342e6594",
   "metadata": {},
   "source": [
    "##### ljust(width[,fill_char])\n",
    "- returns a space / char-padded string with the original string left-justified to a total of width column."
   ]
  },
  {
   "cell_type": "code",
   "execution_count": 1,
   "id": "5da59d8b",
   "metadata": {},
   "outputs": [
    {
     "data": {
      "text/plain": [
       "'CCITxxxxxxx'"
      ]
     },
     "execution_count": 1,
     "metadata": {},
     "output_type": "execute_result"
    }
   ],
   "source": [
    "a=\"CCIT\"\n",
    "b=a.ljust(11,\"x\")\n",
    "b"
   ]
  },
  {
   "cell_type": "markdown",
   "id": "0275394b",
   "metadata": {},
   "source": [
    "##### rjust(width[,fill_char])\n",
    "- returns a space / char-padded string with the original string right-justified to a total of width column."
   ]
  },
  {
   "cell_type": "code",
   "execution_count": 2,
   "id": "a6a853b6",
   "metadata": {},
   "outputs": [
    {
     "data": {
      "text/plain": [
       "'xxxxxxxCCIT'"
      ]
     },
     "execution_count": 2,
     "metadata": {},
     "output_type": "execute_result"
    }
   ],
   "source": [
    "a=\"CCIT\"\n",
    "b=a.rjust(11,\"x\")\n",
    "b"
   ]
  },
  {
   "cell_type": "markdown",
   "id": "181e5ba8",
   "metadata": {},
   "source": [
    "##### center(width[,fill_char])\n",
    "- returns a space / char-padded string with the original string centered to a total width column"
   ]
  },
  {
   "cell_type": "code",
   "execution_count": 3,
   "id": "9060f1d3",
   "metadata": {},
   "outputs": [
    {
     "data": {
      "text/plain": [
       "'xxxxCCITxxx'"
      ]
     },
     "execution_count": 3,
     "metadata": {},
     "output_type": "execute_result"
    }
   ],
   "source": [
    "a=\"CCIT\"\n",
    "b=a.center(11,\"x\")\n",
    "b"
   ]
  },
  {
   "cell_type": "code",
   "execution_count": 4,
   "id": "ad8c3792",
   "metadata": {},
   "outputs": [
    {
     "data": {
      "text/plain": [
       "'xxxCCITxxx'"
      ]
     },
     "execution_count": 4,
     "metadata": {},
     "output_type": "execute_result"
    }
   ],
   "source": [
    "a=\"CCIT\"\n",
    "b=a.center(10,\"x\")\n",
    "b"
   ]
  },
  {
   "cell_type": "markdown",
   "id": "31194246",
   "metadata": {},
   "source": [
    "##### replace(old,new[,max])\n",
    "- replaces all occurances of all in string with new or at most max occurance if max given"
   ]
  },
  {
   "cell_type": "code",
   "execution_count": 5,
   "id": "44541b55",
   "metadata": {},
   "outputs": [
    {
     "data": {
      "text/plain": [
       "'ccit zzzzmrzzzzvzzzzti'"
      ]
     },
     "execution_count": 5,
     "metadata": {},
     "output_type": "execute_result"
    }
   ],
   "source": [
    "a=\"ccit amravati\"\n",
    "x=a.replace(\"a\",\"zzzz\")\n",
    "x"
   ]
  },
  {
   "cell_type": "code",
   "execution_count": 6,
   "id": "cc4dca4a",
   "metadata": {},
   "outputs": [
    {
     "data": {
      "text/plain": [
       "'ccit zzzzmrzzzzvati'"
      ]
     },
     "execution_count": 6,
     "metadata": {},
     "output_type": "execute_result"
    }
   ],
   "source": [
    "a=\"ccit amravati\"\n",
    "x=a.replace(\"a\",\"zzzz\",2)\n",
    "x"
   ]
  },
  {
   "cell_type": "markdown",
   "id": "530d5fb7",
   "metadata": {},
   "source": [
    "##### count(pattern,beg=0,end=len(string))\n",
    "\n",
    "- counts how many times pattern occurs in string if starting index brg and ending index end are given"
   ]
  },
  {
   "cell_type": "code",
   "execution_count": 7,
   "id": "cb7fed20",
   "metadata": {},
   "outputs": [
    {
     "name": "stdout",
     "output_type": "stream",
     "text": [
      "4\n"
     ]
    }
   ],
   "source": [
    "a=\"mohanmohan mohanlal motwani\"\n",
    "c1=a.count(\"mo\")\n",
    "print(c1)"
   ]
  },
  {
   "cell_type": "code",
   "execution_count": 8,
   "id": "c3747477",
   "metadata": {},
   "outputs": [
    {
     "name": "stdout",
     "output_type": "stream",
     "text": [
      "2\n"
     ]
    }
   ],
   "source": [
    "c2=a.count(\"mo\",0,10)\n",
    "print(c2)"
   ]
  },
  {
   "cell_type": "markdown",
   "id": "bad7fae4",
   "metadata": {},
   "source": [
    "##### endswith(suffix,beg=0,end=len(string))\n"
   ]
  },
  {
   "cell_type": "code",
   "execution_count": 9,
   "id": "ae5df2ee",
   "metadata": {},
   "outputs": [
    {
     "name": "stdout",
     "output_type": "stream",
     "text": [
      "False\n"
     ]
    }
   ],
   "source": [
    "a=\"mohanmohan mohanlal motwani\"\n",
    "c1=a.endswith(\"mo\")\n",
    "print(c1)"
   ]
  },
  {
   "cell_type": "code",
   "execution_count": 10,
   "id": "40442827",
   "metadata": {},
   "outputs": [
    {
     "name": "stdout",
     "output_type": "stream",
     "text": [
      "True\n"
     ]
    }
   ],
   "source": [
    "c2=a.endswith(\"an\",0,5)\n",
    "print(c2)"
   ]
  },
  {
   "cell_type": "markdown",
   "id": "3676a297",
   "metadata": {},
   "source": [
    "##### startswith(prefix,beg=0,end=len(string))"
   ]
  },
  {
   "cell_type": "code",
   "execution_count": 11,
   "id": "db363724",
   "metadata": {},
   "outputs": [
    {
     "name": "stdout",
     "output_type": "stream",
     "text": [
      "True\n"
     ]
    }
   ],
   "source": [
    "a=\"mohanmohan mohanlal motwani\"\n",
    "c1=a.startswith(\"mo\")\n",
    "print(c1)"
   ]
  },
  {
   "cell_type": "code",
   "execution_count": 12,
   "id": "84255963",
   "metadata": {},
   "outputs": [
    {
     "name": "stdout",
     "output_type": "stream",
     "text": [
      "False\n"
     ]
    }
   ],
   "source": [
    "c2=a.startswith(\"an\",0,5)\n",
    "print(c2)"
   ]
  },
  {
   "cell_type": "markdown",
   "id": "9aec769b",
   "metadata": {},
   "source": [
    "##### find(str,beg=0,end=len(string))"
   ]
  },
  {
   "cell_type": "code",
   "execution_count": 13,
   "id": "a43954a6",
   "metadata": {},
   "outputs": [],
   "source": [
    "a=\"ccit amravati\""
   ]
  },
  {
   "cell_type": "code",
   "execution_count": 14,
   "id": "24210edd",
   "metadata": {},
   "outputs": [
    {
     "data": {
      "text/plain": [
       "5"
      ]
     },
     "execution_count": 14,
     "metadata": {},
     "output_type": "execute_result"
    }
   ],
   "source": [
    "b=a.find(\"am\")\n",
    "b"
   ]
  },
  {
   "cell_type": "code",
   "execution_count": 15,
   "id": "79db708b",
   "metadata": {},
   "outputs": [
    {
     "data": {
      "text/plain": [
       "-1"
      ]
     },
     "execution_count": 15,
     "metadata": {},
     "output_type": "execute_result"
    }
   ],
   "source": [
    "c=a.find(\"ma\",2,6)\n",
    "c\n",
    "# not found pattern"
   ]
  },
  {
   "cell_type": "code",
   "execution_count": 16,
   "id": "d2ff5b20",
   "metadata": {},
   "outputs": [
    {
     "data": {
      "text/plain": [
       "7"
      ]
     },
     "execution_count": 16,
     "metadata": {},
     "output_type": "execute_result"
    }
   ],
   "source": [
    "d=a.rfind(\"ra\")\n",
    "d"
   ]
  },
  {
   "cell_type": "markdown",
   "id": "c1ece8a0",
   "metadata": {},
   "source": [
    "##### index(str,beg=0,end=len(str_ori))\n",
    "- if not found it gives an error\n",
    "##### rindex(str,beg=0,end=len(str_ori))\n"
   ]
  },
  {
   "cell_type": "code",
   "execution_count": 17,
   "id": "f03240e0",
   "metadata": {},
   "outputs": [
    {
     "data": {
      "text/plain": [
       "5"
      ]
     },
     "execution_count": 17,
     "metadata": {},
     "output_type": "execute_result"
    }
   ],
   "source": [
    "a.index(\"am\")"
   ]
  },
  {
   "cell_type": "code",
   "execution_count": 18,
   "id": "4707d830",
   "metadata": {},
   "outputs": [
    {
     "ename": "ValueError",
     "evalue": "substring not found",
     "output_type": "error",
     "traceback": [
      "\u001b[1;31m---------------------------------------------------------------------------\u001b[0m",
      "\u001b[1;31mValueError\u001b[0m                                Traceback (most recent call last)",
      "\u001b[1;32m<ipython-input-18-acc30cf22c55>\u001b[0m in \u001b[0;36m<module>\u001b[1;34m\u001b[0m\n\u001b[1;32m----> 1\u001b[1;33m \u001b[0ma\u001b[0m\u001b[1;33m.\u001b[0m\u001b[0mindex\u001b[0m\u001b[1;33m(\u001b[0m\u001b[1;34m\"ma\"\u001b[0m\u001b[1;33m)\u001b[0m\u001b[1;33m\u001b[0m\u001b[1;33m\u001b[0m\u001b[0m\n\u001b[0m",
      "\u001b[1;31mValueError\u001b[0m: substring not found"
     ]
    }
   ],
   "source": [
    "a.index(\"ma\")"
   ]
  },
  {
   "cell_type": "code",
   "execution_count": null,
   "id": "0d68628a",
   "metadata": {},
   "outputs": [],
   "source": [
    "a.rindex(\"ra\")"
   ]
  },
  {
   "cell_type": "code",
   "execution_count": 19,
   "id": "21c6768d",
   "metadata": {},
   "outputs": [
    {
     "ename": "ValueError",
     "evalue": "substring not found",
     "output_type": "error",
     "traceback": [
      "\u001b[1;31m---------------------------------------------------------------------------\u001b[0m",
      "\u001b[1;31mValueError\u001b[0m                                Traceback (most recent call last)",
      "\u001b[1;32m<ipython-input-19-bb3ce01580bf>\u001b[0m in \u001b[0;36m<module>\u001b[1;34m\u001b[0m\n\u001b[1;32m----> 1\u001b[1;33m \u001b[0ma\u001b[0m\u001b[1;33m.\u001b[0m\u001b[0mrindex\u001b[0m\u001b[1;33m(\u001b[0m\u001b[1;34m\"ad\"\u001b[0m\u001b[1;33m)\u001b[0m\u001b[1;33m\u001b[0m\u001b[1;33m\u001b[0m\u001b[0m\n\u001b[0m",
      "\u001b[1;31mValueError\u001b[0m: substring not found"
     ]
    }
   ],
   "source": [
    "a.rindex(\"ad\")"
   ]
  },
  {
   "cell_type": "markdown",
   "id": "cc719dd1",
   "metadata": {},
   "source": [
    "### 5 oct 2021"
   ]
  },
  {
   "cell_type": "markdown",
   "id": "cab26b22",
   "metadata": {},
   "source": [
    "###### split(str=\" \")\n",
    "- split string according to delimiter str(space if not provided) and returns list of substrings."
   ]
  },
  {
   "cell_type": "code",
   "execution_count": 20,
   "id": "75ea2635",
   "metadata": {},
   "outputs": [],
   "source": [
    "a=\"CCIT rajapeth amravati\""
   ]
  },
  {
   "cell_type": "code",
   "execution_count": 21,
   "id": "751c9895",
   "metadata": {},
   "outputs": [
    {
     "data": {
      "text/plain": [
       "['CCIT', 'rajapeth', 'amravati']"
      ]
     },
     "execution_count": 21,
     "metadata": {},
     "output_type": "execute_result"
    }
   ],
   "source": [
    "a.split()"
   ]
  },
  {
   "cell_type": "code",
   "execution_count": 22,
   "id": "e202f61a",
   "metadata": {},
   "outputs": [
    {
     "data": {
      "text/plain": [
       "['CCIT r', 'j', 'peth ', 'mr', 'v', 'ti']"
      ]
     },
     "execution_count": 22,
     "metadata": {},
     "output_type": "execute_result"
    }
   ],
   "source": [
    "a.split('a')"
   ]
  },
  {
   "cell_type": "markdown",
   "id": "77c74150",
   "metadata": {},
   "source": [
    "###### splitlines()\n",
    "- splits at all(or num) NEWLINEs and returns a list of each line with NEWLINEs removed."
   ]
  },
  {
   "cell_type": "code",
   "execution_count": 23,
   "id": "1f2dfe46",
   "metadata": {},
   "outputs": [],
   "source": [
    "a=\"\"\"CCIT\n",
    "Rajapeth\n",
    "Amravati\"\"\""
   ]
  },
  {
   "cell_type": "code",
   "execution_count": 24,
   "id": "b2ae3a88",
   "metadata": {},
   "outputs": [
    {
     "data": {
      "text/plain": [
       "'CCIT\\nRajapeth\\nAmravati'"
      ]
     },
     "execution_count": 24,
     "metadata": {},
     "output_type": "execute_result"
    }
   ],
   "source": [
    "a"
   ]
  },
  {
   "cell_type": "code",
   "execution_count": 25,
   "id": "46be5b41",
   "metadata": {},
   "outputs": [
    {
     "data": {
      "text/plain": [
       "['CCIT', 'Rajapeth', 'Amravati']"
      ]
     },
     "execution_count": 25,
     "metadata": {},
     "output_type": "execute_result"
    }
   ],
   "source": [
    "a.splitlines()"
   ]
  },
  {
   "cell_type": "markdown",
   "id": "8bf45b30",
   "metadata": {},
   "source": [
    "###### join(collection)\n",
    "- merges the string elements in collection into a string with separator string."
   ]
  },
  {
   "cell_type": "code",
   "execution_count": 26,
   "id": "c80836f9",
   "metadata": {},
   "outputs": [],
   "source": [
    "lst=[\"ram\",\"shyam\",\"gopal\",\"raj\"]"
   ]
  },
  {
   "cell_type": "code",
   "execution_count": 27,
   "id": "68c8dffd",
   "metadata": {},
   "outputs": [],
   "source": [
    "sep=\",\""
   ]
  },
  {
   "cell_type": "code",
   "execution_count": 28,
   "id": "bc148b95",
   "metadata": {},
   "outputs": [
    {
     "data": {
      "text/plain": [
       "'ram,shyam,gopal,raj'"
      ]
     },
     "execution_count": 28,
     "metadata": {},
     "output_type": "execute_result"
    }
   ],
   "source": [
    "sep.join(lst)"
   ]
  },
  {
   "cell_type": "code",
   "execution_count": 29,
   "id": "52fa4a83",
   "metadata": {},
   "outputs": [],
   "source": [
    "lst1=[\"22\",\"02\",\"2001\"]"
   ]
  },
  {
   "cell_type": "code",
   "execution_count": 30,
   "id": "fd0f75bd",
   "metadata": {},
   "outputs": [],
   "source": [
    "sep=\"-\""
   ]
  },
  {
   "cell_type": "code",
   "execution_count": 31,
   "id": "75cd58ee",
   "metadata": {},
   "outputs": [
    {
     "data": {
      "text/plain": [
       "'22-02-2001'"
      ]
     },
     "execution_count": 31,
     "metadata": {},
     "output_type": "execute_result"
    }
   ],
   "source": [
    "sep.join(lst1)"
   ]
  },
  {
   "cell_type": "markdown",
   "id": "78d37805",
   "metadata": {},
   "source": [
    "###### format(val1,val2,...)\n",
    "- to insert values into formatted string"
   ]
  },
  {
   "cell_type": "code",
   "execution_count": 32,
   "id": "f3de9afa",
   "metadata": {},
   "outputs": [
    {
     "name": "stdout",
     "output_type": "stream",
     "text": [
      "values are 5 and 10\n"
     ]
    }
   ],
   "source": [
    "a=5\n",
    "b=10\n",
    "s=\"values are {} and {}\"\n",
    "x=s.format(a,b)\n",
    "print(x)"
   ]
  },
  {
   "cell_type": "code",
   "execution_count": 33,
   "id": "230c46d9",
   "metadata": {},
   "outputs": [
    {
     "name": "stdout",
     "output_type": "stream",
     "text": [
      "values are 5 and 10\n"
     ]
    }
   ],
   "source": [
    "print(\"values are {} and {}\".format(a,b))"
   ]
  },
  {
   "cell_type": "code",
   "execution_count": 34,
   "id": "f4a34309",
   "metadata": {},
   "outputs": [
    {
     "name": "stdout",
     "output_type": "stream",
     "text": [
      "values are 5 and 10\n"
     ]
    }
   ],
   "source": [
    "print(\"values are {} and {}\".format(5,10))"
   ]
  },
  {
   "cell_type": "markdown",
   "id": "a2b63e0a",
   "metadata": {},
   "source": [
    "#### string operators"
   ]
  },
  {
   "cell_type": "code",
   "execution_count": 35,
   "id": "cce7c01c",
   "metadata": {},
   "outputs": [],
   "source": [
    "a=\"hello\"\n",
    "b=\"bro\""
   ]
  },
  {
   "cell_type": "markdown",
   "id": "7bcd4ecc",
   "metadata": {},
   "source": [
    "###### + concatenation\n",
    "- adds values on either side of the operator"
   ]
  },
  {
   "cell_type": "code",
   "execution_count": 36,
   "id": "cbe89e62",
   "metadata": {},
   "outputs": [
    {
     "data": {
      "text/plain": [
       "'hellobro'"
      ]
     },
     "execution_count": 36,
     "metadata": {},
     "output_type": "execute_result"
    }
   ],
   "source": [
    "a+b"
   ]
  },
  {
   "cell_type": "markdown",
   "id": "03ec1247",
   "metadata": {},
   "source": [
    "###### * repatation\n",
    "- creates new sting, concanating multiple copies of the same string"
   ]
  },
  {
   "cell_type": "code",
   "execution_count": 37,
   "id": "efddb3f8",
   "metadata": {},
   "outputs": [
    {
     "data": {
      "text/plain": [
       "'hellohellohello'"
      ]
     },
     "execution_count": 37,
     "metadata": {},
     "output_type": "execute_result"
    }
   ],
   "source": [
    "a*3"
   ]
  },
  {
   "cell_type": "markdown",
   "id": "1b154f46",
   "metadata": {},
   "source": [
    "##### [Index]\n",
    "- slice: given the character from the the given index"
   ]
  },
  {
   "cell_type": "code",
   "execution_count": 38,
   "id": "a576e185",
   "metadata": {},
   "outputs": [
    {
     "data": {
      "text/plain": [
       "'e'"
      ]
     },
     "execution_count": 38,
     "metadata": {},
     "output_type": "execute_result"
    }
   ],
   "source": [
    "a=\"hello\"\n",
    "a[1]"
   ]
  },
  {
   "cell_type": "markdown",
   "id": "b05abaa9",
   "metadata": {},
   "source": [
    "###### [start_index : endi_ndex : step]\n",
    "- range slice: given th charactors from the given range"
   ]
  },
  {
   "cell_type": "code",
   "execution_count": 39,
   "id": "26d5e00b",
   "metadata": {},
   "outputs": [
    {
     "data": {
      "text/plain": [
       "'ell'"
      ]
     },
     "execution_count": 39,
     "metadata": {},
     "output_type": "execute_result"
    }
   ],
   "source": [
    "a[1:4]"
   ]
  },
  {
   "cell_type": "code",
   "execution_count": 40,
   "id": "d96776e4",
   "metadata": {},
   "outputs": [
    {
     "data": {
      "text/plain": [
       "'ello'"
      ]
     },
     "execution_count": 40,
     "metadata": {},
     "output_type": "execute_result"
    }
   ],
   "source": [
    "a[1:]"
   ]
  },
  {
   "cell_type": "code",
   "execution_count": 41,
   "id": "eb49f32f",
   "metadata": {},
   "outputs": [
    {
     "data": {
      "text/plain": [
       "'hell'"
      ]
     },
     "execution_count": 41,
     "metadata": {},
     "output_type": "execute_result"
    }
   ],
   "source": [
    "a[:4]"
   ]
  },
  {
   "cell_type": "code",
   "execution_count": 42,
   "id": "300219ef",
   "metadata": {},
   "outputs": [
    {
     "data": {
      "text/plain": [
       "'hlo'"
      ]
     },
     "execution_count": 42,
     "metadata": {},
     "output_type": "execute_result"
    }
   ],
   "source": [
    "a[::2]"
   ]
  },
  {
   "cell_type": "code",
   "execution_count": 43,
   "id": "0f067d96",
   "metadata": {},
   "outputs": [
    {
     "data": {
      "text/plain": [
       "'olleh'"
      ]
     },
     "execution_count": 43,
     "metadata": {},
     "output_type": "execute_result"
    }
   ],
   "source": [
    "a[::-1]"
   ]
  },
  {
   "cell_type": "code",
   "execution_count": 44,
   "id": "7c8cd7da",
   "metadata": {},
   "outputs": [
    {
     "name": "stdout",
     "output_type": "stream",
     "text": [
      "words are 4\n"
     ]
    }
   ],
   "source": [
    "# wap to count total number of words in a string \"amravati is smart city\"\n",
    "a=\"amravati is smart city\"\n",
    "words=a.count(\" \") + 1\n",
    "print(\"words are\", words)"
   ]
  },
  {
   "cell_type": "code",
   "execution_count": 45,
   "id": "1a5e2892",
   "metadata": {},
   "outputs": [
    {
     "data": {
      "text/plain": [
       "4"
      ]
     },
     "execution_count": 45,
     "metadata": {},
     "output_type": "execute_result"
    }
   ],
   "source": [
    "\"amravati is smart city\".count(\" \")+1"
   ]
  },
  {
   "cell_type": "code",
   "execution_count": 46,
   "id": "bd1602b3",
   "metadata": {},
   "outputs": [
    {
     "name": "stdout",
     "output_type": "stream",
     "text": [
      "7\n"
     ]
    }
   ],
   "source": [
    "# count total numbers of vowels in a given string \"amravati is smart city\"\n",
    "data=\"amravati is smart city\"\n",
    "vstr=\"AEIOUaeiou\"\n",
    "c=0\n",
    "for x in data:\n",
    "    if vstr.find(x)>0: # by string method\n",
    "        c=c+1\n",
    "else:\n",
    "    print(c)"
   ]
  },
  {
   "cell_type": "code",
   "execution_count": 47,
   "id": "5cfbe064",
   "metadata": {},
   "outputs": [
    {
     "name": "stdout",
     "output_type": "stream",
     "text": [
      "7\n"
     ]
    }
   ],
   "source": [
    "# count total numbers of vowels in a given string \"amravati is smart city\"\n",
    "data=\"Amravati is smart city\"\n",
    "vstr=\"AEIOUaeiou\"\n",
    "c=0\n",
    "for x in data:\n",
    "    if x in vstr:\n",
    "        c=c+1\n",
    "else:\n",
    "    print(c)"
   ]
  },
  {
   "cell_type": "markdown",
   "id": "a49694a7",
   "metadata": {},
   "source": [
    "#  6-10 \n",
    "- mssed"
   ]
  },
  {
   "cell_type": "markdown",
   "id": "75aaa8e2",
   "metadata": {},
   "source": [
    "# 7-10\n",
    "- missed"
   ]
  },
  {
   "cell_type": "markdown",
   "id": "15e267d1",
   "metadata": {},
   "source": [
    "#  8/10/2021"
   ]
  },
  {
   "cell_type": "markdown",
   "id": "c9d9f753",
   "metadata": {},
   "source": [
    "#### list.sort([reverse=False],[Key=None])"
   ]
  },
  {
   "cell_type": "code",
   "execution_count": 48,
   "id": "f1f463dd",
   "metadata": {},
   "outputs": [],
   "source": [
    "lst=['ram','ganpat','shyam','gopal','raj','mona']"
   ]
  },
  {
   "cell_type": "code",
   "execution_count": 49,
   "id": "8b43267c",
   "metadata": {},
   "outputs": [
    {
     "name": "stdout",
     "output_type": "stream",
     "text": [
      "['ganpat', 'gopal', 'mona', 'raj', 'ram', 'shyam']\n"
     ]
    }
   ],
   "source": [
    "lst.sort()\n",
    "print(lst)"
   ]
  },
  {
   "cell_type": "code",
   "execution_count": 50,
   "id": "56fb10c2",
   "metadata": {},
   "outputs": [
    {
     "name": "stdout",
     "output_type": "stream",
     "text": [
      "['shyam', 'ram', 'raj', 'mona', 'gopal', 'ganpat']\n"
     ]
    }
   ],
   "source": [
    "lst.sort(reverse=True)\n",
    "print(lst)"
   ]
  },
  {
   "cell_type": "code",
   "execution_count": 51,
   "id": "9013decd",
   "metadata": {},
   "outputs": [
    {
     "name": "stdout",
     "output_type": "stream",
     "text": [
      "['ram', 'raj', 'mona', 'shyam', 'gopal', 'ganpat']\n"
     ]
    }
   ],
   "source": [
    "lst.sort(key=len)\n",
    "print(lst)"
   ]
  },
  {
   "cell_type": "markdown",
   "id": "7c685852",
   "metadata": {},
   "source": [
    "###### programs"
   ]
  },
  {
   "cell_type": "code",
   "execution_count": 52,
   "id": "c2673e7c",
   "metadata": {},
   "outputs": [
    {
     "name": "stdout",
     "output_type": "stream",
     "text": [
      "With 1st letter:  ['ganpat', 'gopal', 'mona', 'raj', 'ram', 'shyam']\n",
      "By 2nd letter:  ['raj', 'ram', 'ganpat', 'shyam', 'mona', 'gopal']\n"
     ]
    }
   ],
   "source": [
    "#wap to sort names according to from 2nd letter in it. i.e. ignoring 1st letter\n",
    "lst=['ram','ganpat','shyam','gopal','raj','mona']\n",
    "lst.sort()\n",
    "print(\"With 1st letter: \",lst)\n",
    "\n",
    "def cmp(val):\n",
    "    return val[1:]\n",
    "\n",
    "lst.sort(key=cmp)\n",
    "print(\"By 2nd letter: \",lst)"
   ]
  },
  {
   "cell_type": "code",
   "execution_count": 53,
   "id": "c1aa6783",
   "metadata": {},
   "outputs": [
    {
     "name": "stdout",
     "output_type": "stream",
     "text": [
      "With 1st Name:  ['Amit R. Pandey', 'Gopal Jain', 'Madan Agrawal', 'Mohan Mantri', 'Raj M. Joshi']\n",
      "By Last NAme:  ['Madan Agrawal', 'Gopal Jain', 'Raj M. Joshi', 'Mohan Mantri', 'Amit R. Pandey']\n"
     ]
    }
   ],
   "source": [
    "#wap to sort list according to last name\n",
    "\n",
    "lst=[\"Gopal Jain\",\"Amit R. Pandey\",\"Raj M. Joshi\",\"Mohan Mantri\",\"Madan Agrawal\"]\n",
    "\n",
    "lst.sort()\n",
    "print(\"With 1st Name: \",lst)\n",
    "\n",
    "def cmp(val):\n",
    "    arr=val.split()\n",
    "    return arr[-1]\n",
    "\n",
    "lst.sort(key=cmp)\n",
    "print(\"By Last NAme: \",lst)"
   ]
  },
  {
   "cell_type": "code",
   "execution_count": 54,
   "id": "f765fea3",
   "metadata": {},
   "outputs": [
    {
     "name": "stdout",
     "output_type": "stream",
     "text": [
      "Without mail address:  ['AmitR.@yahoo.com', 'Gopal@gmail.com', 'Madan@ccit.ac.in', 'Mohan@gmail.com', 'RajM.@sipnaengg.ac.in']\n",
      "By Mail Adderss:  ['Madan@ccit.ac.in', 'Gopal@gmail.com', 'Mohan@gmail.com', 'RajM.@sipnaengg.ac.in', 'AmitR.@yahoo.com']\n"
     ]
    }
   ],
   "source": [
    "#wap to sort list according to mail address\n",
    "\n",
    "lst=[\"Gopal@gmail.com\",\"AmitR.@yahoo.com\",\"RajM.@sipnaengg.ac.in\",\"Mohan@gmail.com\",\"Madan@ccit.ac.in\"]\n",
    "\n",
    "lst.sort()\n",
    "print(\"Without mail address: \",lst)\n",
    "\n",
    "def cmp(val):\n",
    "    arr=val.split('@')\n",
    "    return arr[-1]\n",
    "\n",
    "lst.sort(key=cmp)\n",
    "print(\"By Mail Adderss: \",lst)"
   ]
  },
  {
   "cell_type": "code",
   "execution_count": 55,
   "id": "baf01c1d",
   "metadata": {},
   "outputs": [
    {
     "name": "stdout",
     "output_type": "stream",
     "text": [
      "Without sum of its digits: [55, 61, 234, 1201, 10002]\n",
      "With sum of its digits: [10002, 1201, 61, 234, 55]\n"
     ]
    }
   ],
   "source": [
    "#wap to sort list according to sum of digits\n",
    "\n",
    "lst = [1201,61,234,10002,55]\n",
    "\n",
    "lst.sort()\n",
    "print(\"Without sum of its digits:\",lst)\n",
    "\n",
    "def cmp(val):\n",
    "    s=0\n",
    "    while val>0:\n",
    "        d=val%10\n",
    "        s = s + d\n",
    "        val = val // 10\n",
    "    return s\n",
    "\n",
    "lst.sort(key=cmp)\n",
    "print(\"With sum of its digits:\",lst)"
   ]
  },
  {
   "cell_type": "code",
   "execution_count": 56,
   "id": "49b5e1e6",
   "metadata": {},
   "outputs": [
    {
     "name": "stdout",
     "output_type": "stream",
     "text": [
      "['amit joshi', 'chetan joshi', 'raj joshi', 'gopal pandey', 'seeta pandey']\n"
     ]
    }
   ],
   "source": [
    "# Wap to sort list according to last name\n",
    "# if last name is same then sort it according to first name\n",
    "\n",
    "lst = ['seeta pandey','amit joshi','gopal pandey','raj joshi','chetan joshi']\n",
    "\n",
    "def cmp(val):\n",
    "    arr = val.split()\n",
    "    return arr[1] + arr[0]\n",
    "\n",
    "lst.sort(key = cmp)\n",
    "print(lst)"
   ]
  },
  {
   "cell_type": "markdown",
   "id": "1ac940bf",
   "metadata": {},
   "source": [
    "<b style=\"margin-left:800px;font-size:20px;color:white;background-color:black;\"> 11/10/2021</b>"
   ]
  },
  {
   "cell_type": "markdown",
   "id": "faca1064",
   "metadata": {},
   "source": [
    "##### Nesting of list\n",
    "- If required a list can contains items of type list as well as other collection type in it."
   ]
  },
  {
   "cell_type": "code",
   "execution_count": 57,
   "id": "ff0520e0",
   "metadata": {},
   "outputs": [
    {
     "name": "stdout",
     "output_type": "stream",
     "text": [
      "[[1, 3, 5], [2, 7, 6, 9]]\n"
     ]
    }
   ],
   "source": [
    "a = [1,3,5]\n",
    "b = [2,7,6,9]\n",
    "c = [a,b]\n",
    "print(c)"
   ]
  },
  {
   "cell_type": "code",
   "execution_count": 58,
   "id": "535c813f",
   "metadata": {},
   "outputs": [
    {
     "name": "stdout",
     "output_type": "stream",
     "text": [
      "[[1, 3, 5], [2, 7, 6, 9]]\n"
     ]
    }
   ],
   "source": [
    "c = [[1,3,5],[2,7,6,9]]\n",
    "print(c)"
   ]
  },
  {
   "cell_type": "code",
   "execution_count": 59,
   "id": "d8240479",
   "metadata": {},
   "outputs": [
    {
     "name": "stdout",
     "output_type": "stream",
     "text": [
      "33\n"
     ]
    }
   ],
   "source": [
    "# wap to find sum of items in nested list\n",
    "nlst = [[1,3,5],[2,7,6,9]]\n",
    "\n",
    "s=0\n",
    "for x in nlst:\n",
    "    s=s+sum(x)\n",
    "else:\n",
    "    print(s)"
   ]
  },
  {
   "cell_type": "code",
   "execution_count": 60,
   "id": "8a06b870",
   "metadata": {},
   "outputs": [
    {
     "name": "stdout",
     "output_type": "stream",
     "text": [
      "33\n"
     ]
    }
   ],
   "source": [
    "# wap to find sum of items in nested list\n",
    "nlst = [[1,3,5],[2,7,6,9]]\n",
    "\n",
    "s=0\n",
    "for x in nlst:\n",
    "    for y in x:\n",
    "        s = s + y\n",
    "else:\n",
    "    print(s)"
   ]
  },
  {
   "cell_type": "code",
   "execution_count": 61,
   "id": "cd63cb79",
   "metadata": {},
   "outputs": [
    {
     "name": "stdout",
     "output_type": "stream",
     "text": [
      "9\n",
      "24\n"
     ]
    }
   ],
   "source": [
    "# wap to find sum of each list in nested list\n",
    "\n",
    "nlst = [[1,3,5],[2,7,6,9]]\n",
    "for x in nlst:\n",
    "    print(sum(x))"
   ]
  },
  {
   "cell_type": "code",
   "execution_count": 62,
   "id": "6efdee39",
   "metadata": {},
   "outputs": [
    {
     "name": "stdout",
     "output_type": "stream",
     "text": [
      "9\n",
      "24\n"
     ]
    }
   ],
   "source": [
    "# wap to find sum of each list in nested list\n",
    "\n",
    "nlst = [[1,3,5],[2,7,6,9]]\n",
    "for x in nlst:\n",
    "    s = 0\n",
    "    for y in x:\n",
    "        s=s+y\n",
    "    else:\n",
    "        print(s)"
   ]
  },
  {
   "cell_type": "markdown",
   "id": "08c3ccab",
   "metadata": {},
   "source": [
    "##### List membership test/in operator\n",
    "- we can test if an item exists in a list or not, using the operator in.\n",
    "- syntax\n",
    "    - <b style=\"color:red;font-size:20px;\">val in list</b>\n",
    "- it will return true if value is in list"
   ]
  },
  {
   "cell_type": "code",
   "execution_count": 63,
   "id": "853a8000",
   "metadata": {},
   "outputs": [
    {
     "name": "stdout",
     "output_type": "stream",
     "text": [
      "True\n",
      "False\n",
      "True\n"
     ]
    }
   ],
   "source": [
    "my_list = ['a','e','i','o','u']\n",
    "print('e' in my_list)\n",
    "print('x' in my_list)\n",
    "print('a' in my_list)"
   ]
  },
  {
   "cell_type": "code",
   "execution_count": 64,
   "id": "5ff22f3e",
   "metadata": {},
   "outputs": [
    {
     "name": "stdout",
     "output_type": "stream",
     "text": [
      "2\n"
     ]
    }
   ],
   "source": [
    "# wap to count total no of list containing 0 in nested list\n",
    "c = 0\n",
    "nlst = [[1,3,5],[2,7,6,9],[0,3,5,1,0],[3,6],[1,2,6,0]]\n",
    "for x in nlst:\n",
    "    if 0 in x:\n",
    "        c=c+1\n",
    "else:\n",
    "    print(c)"
   ]
  },
  {
   "cell_type": "code",
   "execution_count": 65,
   "id": "cc7e0bd2",
   "metadata": {},
   "outputs": [
    {
     "name": "stdout",
     "output_type": "stream",
     "text": [
      "Total sales is 85000\n"
     ]
    }
   ],
   "source": [
    "# wap to calculate total sales in a given list\n",
    "\n",
    "slst = [[\"jan-2017\",\"Amit\",45000],\n",
    "       ['jan-2017',\"Gopal\",15000],\n",
    "       [\"feb-2017\",\"Amit\",25000]]\n",
    "s=0\n",
    "for lst in slst:\n",
    "    s = s + lst[2]\n",
    "print(\"Total sales is\",s)"
   ]
  },
  {
   "cell_type": "code",
   "execution_count": 66,
   "id": "f33152d4",
   "metadata": {},
   "outputs": [
    {
     "name": "stdout",
     "output_type": "stream",
     "text": [
      "Total sales in jan-2017 60000\n"
     ]
    }
   ],
   "source": [
    "# wap to calculate total sales in a givel list in jan-2017\n",
    "s=0\n",
    "for lst in slst:\n",
    "    if \"jan-2017\" in lst:\n",
    "        s = s + lst[2]\n",
    "print(\"Total sales in jan-2017\",s)"
   ]
  },
  {
   "cell_type": "code",
   "execution_count": 67,
   "id": "64a1d8df",
   "metadata": {},
   "outputs": [
    {
     "name": "stdout",
     "output_type": "stream",
     "text": [
      "Average age is 25.8\n"
     ]
    }
   ],
   "source": [
    "#wap to find av of age of person in list\n",
    "class person:\n",
    "    def __init__(self,nm,ct,age):\n",
    "        self.nm=nm\n",
    "        self.ct=ct\n",
    "        self.age=age\n",
    "    def showdata(self):\n",
    "        print(self.nm,self.ct,self.age)\n",
    "\n",
    "a=person(\"Amit\",\"Mumbai\",23)\n",
    "b=person(\"Amit\",\"Mumbai\",24)\n",
    "c=person(\"Amit\",\"Mumbai\",29)\n",
    "d=person(\"Amit\",\"Mumbai\",28)\n",
    "e=person(\"Amit\",\"Mumbai\",25)\n",
    "\n",
    "lst=[a,b,c,d,e]\n",
    "\n",
    "s=0\n",
    "for obj in lst:\n",
    "    s = s + obj.age\n",
    "m = s/len(lst)\n",
    "print(\"Average age is\",m)"
   ]
  },
  {
   "cell_type": "code",
   "execution_count": 68,
   "id": "d3e03bbd",
   "metadata": {},
   "outputs": [
    {
     "name": "stdout",
     "output_type": "stream",
     "text": [
      "Amit Mumbai 23\n"
     ]
    }
   ],
   "source": [
    "#wap to find person with lowest age from person in list\n",
    "\n",
    "class person:\n",
    "    def __init__(self,nm,ct,age):\n",
    "        self.nm=nm\n",
    "        self.ct=ct\n",
    "        self.age=age\n",
    "    def showdata(self):\n",
    "        print(self.nm,self.ct,self.age)\n",
    "\n",
    "a=person(\"Amit\",\"Mumbai\",23)\n",
    "b=person(\"Amit\",\"Mumbai\",24)\n",
    "c=person(\"Amit\",\"Mumbai\",29)\n",
    "d=person(\"Amit\",\"Mumbai\",28)\n",
    "e=person(\"Amit\",\"Mumbai\",25)\n",
    "\n",
    "lst=[a,b,c,d,e]\n",
    "lowp=lst[0]\n",
    "for p in lst:\n",
    "    if p.age < lowp.age:\n",
    "        lowp = p\n",
    "lowp.showdata()"
   ]
  },
  {
   "cell_type": "markdown",
   "id": "8c4e74b1",
   "metadata": {},
   "source": [
    "<b style=\"margin-left:800px;font-size:20px;color:white;background-color:black;\"> 12/10/2021</b>"
   ]
  },
  {
   "cell_type": "markdown",
   "id": "8cf6952d",
   "metadata": {},
   "source": [
    " <b><center style=\"font-size:40px;color:red;\">Tuple</center></b>"
   ]
  },
  {
   "cell_type": "markdown",
   "id": "2f4cda7e",
   "metadata": {},
   "source": [
    "- It is a data structure which is used to state collection of items.\n",
    "- Feature:-\n",
    "    - Tuples are Ordered. i.e. Iths element can be accessed by using index.\n",
    "    - Tuple can contain Arbitrary Objects. i.e. any type of object.\n",
    "    - Tuples are immputable i.e.e contents of tuple cannot be changed once it is created.\n",
    "    - NOTE: If the element is itself a mutable datatype then it's contents can be changed.\n",
    "    \n",
    "#### Creating Tuple\n",
    "- The objects are enclosed within parenthesis and separated by comma(,)\n",
    "- Syntax:\n",
    "    - <b style=\"color:red;font-size:20px;\">Tuple_Name = (value1, value2, value3,...) </b>"
   ]
  },
  {
   "cell_type": "code",
   "execution_count": 69,
   "id": "9c87d4b7",
   "metadata": {},
   "outputs": [
    {
     "name": "stdout",
     "output_type": "stream",
     "text": [
      "('apple', 'banana', 'cherry')\n",
      "<class 'tuple'>\n"
     ]
    }
   ],
   "source": [
    "tp1 = (\"apple\",\"banana\",\"cherry\")\n",
    "print(tp1)\n",
    "print(type(tp1))"
   ]
  },
  {
   "cell_type": "code",
   "execution_count": 70,
   "id": "2a55656d",
   "metadata": {},
   "outputs": [
    {
     "name": "stdout",
     "output_type": "stream",
     "text": [
      "('Amit Jain', 23, 'male')\n",
      "<class 'tuple'>\n"
     ]
    }
   ],
   "source": [
    "tp2 = (\"Amit Jain\",23,\"male\")\n",
    "print(tp2)\n",
    "print(type(tp2))"
   ]
  },
  {
   "cell_type": "code",
   "execution_count": 71,
   "id": "4d254a84",
   "metadata": {},
   "outputs": [
    {
     "name": "stdout",
     "output_type": "stream",
     "text": [
      "(4117, 'Amit Jain', ['C', 'C++', 'Java', 'Python'])\n",
      "<class 'tuple'>\n"
     ]
    }
   ],
   "source": [
    "tp3 = (4117,\"Amit Jain\",[\"C\",\"C++\",\"Java\",\"Python\"])\n",
    "print(tp3)\n",
    "print(type(tp3))"
   ]
  },
  {
   "cell_type": "markdown",
   "id": "23b8bacb",
   "metadata": {},
   "source": [
    "### Accessing Tuple\n",
    "- syntax to get value:\n",
    "    - <b style=\"color:red;font-size:20px;\">Tuple_Name[Index]</b><br>"
   ]
  },
  {
   "cell_type": "markdown",
   "id": "61178305",
   "metadata": {},
   "source": [
    "##### StartIndex\n",
    "- Indicates begining of subtuple.\n",
    "- Default is zero.\n",
    "- Subtuple includes element from start index.\n"
   ]
  },
  {
   "cell_type": "markdown",
   "id": "4b5db38f",
   "metadata": {},
   "source": [
    "##### StopIndex\n",
    "- Indicates end of the subtuple.\n",
    "- Default is end of tuple.\n",
    "- Subtuple excludes element from stop index.\n"
   ]
  },
  {
   "cell_type": "markdown",
   "id": "ee09c1d0",
   "metadata": {},
   "source": [
    "##### Step\n",
    "- Indicates next element.\n",
    "- Default is 1. "
   ]
  },
  {
   "cell_type": "code",
   "execution_count": 72,
   "id": "c872f95e",
   "metadata": {},
   "outputs": [],
   "source": [
    "tp = (\"apple\",\"banana\",\"cherry\",\"mango\",\"grapes\")"
   ]
  },
  {
   "cell_type": "code",
   "execution_count": 73,
   "id": "f18bef54",
   "metadata": {},
   "outputs": [
    {
     "name": "stdout",
     "output_type": "stream",
     "text": [
      "cherry\n"
     ]
    }
   ],
   "source": [
    "print(tp[2])"
   ]
  },
  {
   "cell_type": "code",
   "execution_count": 74,
   "id": "c2cddb56",
   "metadata": {},
   "outputs": [
    {
     "name": "stdout",
     "output_type": "stream",
     "text": [
      "apple\n"
     ]
    }
   ],
   "source": [
    "print(tp[0])"
   ]
  },
  {
   "cell_type": "code",
   "execution_count": 75,
   "id": "6dd461ba",
   "metadata": {},
   "outputs": [
    {
     "name": "stdout",
     "output_type": "stream",
     "text": [
      "grapes\n"
     ]
    }
   ],
   "source": [
    "print(tp[-1])"
   ]
  },
  {
   "cell_type": "code",
   "execution_count": 76,
   "id": "1cfb1c2d",
   "metadata": {},
   "outputs": [
    {
     "name": "stdout",
     "output_type": "stream",
     "text": [
      "('banana', 'cherry')\n"
     ]
    }
   ],
   "source": [
    "print(tp[1:3])"
   ]
  },
  {
   "cell_type": "code",
   "execution_count": 77,
   "id": "705b23c2",
   "metadata": {},
   "outputs": [
    {
     "name": "stdout",
     "output_type": "stream",
     "text": [
      "('apple', 'banana')\n"
     ]
    }
   ],
   "source": [
    "print(tp[:2])"
   ]
  },
  {
   "cell_type": "code",
   "execution_count": 78,
   "id": "9f8be402",
   "metadata": {},
   "outputs": [
    {
     "name": "stdout",
     "output_type": "stream",
     "text": [
      "('cherry', 'mango', 'grapes')\n"
     ]
    }
   ],
   "source": [
    "print(tp[2:])"
   ]
  },
  {
   "cell_type": "code",
   "execution_count": 79,
   "id": "04cb854c",
   "metadata": {},
   "outputs": [
    {
     "name": "stdout",
     "output_type": "stream",
     "text": [
      "('apple', 'cherry', 'grapes')\n"
     ]
    }
   ],
   "source": [
    "print(tp[: :2])"
   ]
  },
  {
   "cell_type": "code",
   "execution_count": 80,
   "id": "c7a0e495",
   "metadata": {},
   "outputs": [
    {
     "name": "stdout",
     "output_type": "stream",
     "text": [
      "('grapes', 'mango', 'cherry', 'banana', 'apple')\n"
     ]
    }
   ],
   "source": [
    "print(tp[: :-1])"
   ]
  },
  {
   "cell_type": "markdown",
   "id": "1ac2c0ae",
   "metadata": {},
   "source": [
    "#### Constructor\n",
    "- it is use to create tuple from a collection.\n",
    "- Syntax:\n",
    "    - <b style=\"color:red;font-size:20px;\">Tuple_Name = tuple(collection)</b>"
   ]
  },
  {
   "cell_type": "code",
   "execution_count": 81,
   "id": "2ddbb46c",
   "metadata": {},
   "outputs": [
    {
     "name": "stdout",
     "output_type": "stream",
     "text": [
      "(4117, 'Amit Jain', 'Amravati')\n"
     ]
    }
   ],
   "source": [
    "lst = [4117,\"Amit Jain\",\"Amravati\"]\n",
    "tp = tuple(lst)\n",
    "print(tp)"
   ]
  },
  {
   "cell_type": "code",
   "execution_count": 82,
   "id": "362b29ff",
   "metadata": {},
   "outputs": [
    {
     "name": "stdout",
     "output_type": "stream",
     "text": [
      "('A', 'E', 'I', 'O', 'U')\n"
     ]
    }
   ],
   "source": [
    "str_x = \"AEIOU\"\n",
    "tp = tuple(str_x)\n",
    "print(tp)"
   ]
  },
  {
   "cell_type": "markdown",
   "id": "f0c708e9",
   "metadata": {},
   "source": [
    "#### Methods\n",
    "1. index(value)\n",
    "    - It returns the index of the first apperance of an item in a tuple.\n",
    "    - If not found it will throw an exception value error."
   ]
  },
  {
   "cell_type": "code",
   "execution_count": 83,
   "id": "459d060c",
   "metadata": {},
   "outputs": [
    {
     "name": "stdout",
     "output_type": "stream",
     "text": [
      "1\n"
     ]
    }
   ],
   "source": [
    "a = (1,2,3,4,5,6,7,8)\n",
    "print(a.index(2))"
   ]
  },
  {
   "cell_type": "markdown",
   "id": "bdfb2e62",
   "metadata": {},
   "source": [
    "2. count(value)\n",
    "    - It returns the number of times an item appers in a tuple."
   ]
  },
  {
   "cell_type": "code",
   "execution_count": 84,
   "id": "50a907af",
   "metadata": {},
   "outputs": [
    {
     "name": "stdout",
     "output_type": "stream",
     "text": [
      "total number of 2 in the tuple 2\n",
      "total number of 5 in the tuple 3\n",
      "total number of 6 in the tuple 2\n",
      "total number of 1 in the tuple 1\n"
     ]
    }
   ],
   "source": [
    "a = (1,2,3,4,5,6,7,8,5,5,2,6)\n",
    "print(\"total number of 2 in the tuple\",a.count(2))\n",
    "print(\"total number of 5 in the tuple\",a.count(5))\n",
    "print(\"total number of 6 in the tuple\",a.count(6))\n",
    "print(\"total number of 1 in the tuple\",a.count(1))"
   ]
  },
  {
   "cell_type": "markdown",
   "id": "c4ee3264",
   "metadata": {},
   "source": [
    "### Functions for Collections\n",
    "1. <b>len(Collection)</b>\n",
    "    - It returns it's length."
   ]
  },
  {
   "cell_type": "code",
   "execution_count": 85,
   "id": "27a2e090",
   "metadata": {},
   "outputs": [
    {
     "name": "stdout",
     "output_type": "stream",
     "text": [
      "3\n",
      "4\n",
      "3\n"
     ]
    }
   ],
   "source": [
    "a = [1,2,3]\n",
    "b = (1,2,3,[6,5])\n",
    "c = {1,2,3}\n",
    "print(len(a))\n",
    "print(len(b))\n",
    "print(len(c))"
   ]
  },
  {
   "cell_type": "markdown",
   "id": "34facad9",
   "metadata": {},
   "source": [
    "2. <b>max(collection)</b>\n",
    "    - It returns the item with the highest value."
   ]
  },
  {
   "cell_type": "code",
   "execution_count": 86,
   "id": "007d49b0",
   "metadata": {},
   "outputs": [
    {
     "name": "stdout",
     "output_type": "stream",
     "text": [
      "6\n"
     ]
    }
   ],
   "source": [
    "a = (1,2,3,4,5,6)\n",
    "print(max(a))"
   ]
  },
  {
   "cell_type": "markdown",
   "id": "9f4836d7",
   "metadata": {},
   "source": [
    "3. <b>min(collection)</b>\n",
    "    - It returns the item with the lowest value."
   ]
  },
  {
   "cell_type": "code",
   "execution_count": 87,
   "id": "4526d22f",
   "metadata": {},
   "outputs": [
    {
     "name": "stdout",
     "output_type": "stream",
     "text": [
      "1\n"
     ]
    }
   ],
   "source": [
    "a = (1,2,3,4,5,6)\n",
    "print(min(a))"
   ]
  },
  {
   "cell_type": "markdown",
   "id": "90ca3cab",
   "metadata": {},
   "source": [
    "4. <b>sum(collection)</b>\n",
    "    - This function returns the arithmatic sum of all the items in the collection.\n",
    "    - <b>NOTE :</b>\n",
    "        - can't apply this function on a collection with string."
   ]
  },
  {
   "cell_type": "code",
   "execution_count": 88,
   "id": "a15c5be2",
   "metadata": {},
   "outputs": [
    {
     "name": "stdout",
     "output_type": "stream",
     "text": [
      "21\n"
     ]
    }
   ],
   "source": [
    "a = (1,2,3,4,5,6)\n",
    "print(sum(a))"
   ]
  },
  {
   "cell_type": "markdown",
   "id": "573f05d9",
   "metadata": {},
   "source": [
    "5. <b>sorted(collection)</b>\n",
    "    - This function returns a sorted version of collection as list.\n",
    "    - The sorting is in ascending order, and it doesn't modify the original collection."
   ]
  },
  {
   "cell_type": "code",
   "execution_count": 89,
   "id": "65db3e15",
   "metadata": {},
   "outputs": [
    {
     "name": "stdout",
     "output_type": "stream",
     "text": [
      "[1, 3, 4]\n"
     ]
    }
   ],
   "source": [
    "a = [1,4,3]\n",
    "print(sorted(a))"
   ]
  },
  {
   "cell_type": "code",
   "execution_count": 90,
   "id": "7cf66d52",
   "metadata": {},
   "outputs": [
    {
     "name": "stdout",
     "output_type": "stream",
     "text": [
      "['D', 'a', 'b', 'c']\n"
     ]
    }
   ],
   "source": [
    "b = (\"b\",\"a\",\"D\",\"c\")\n",
    "print(sorted(b))"
   ]
  },
  {
   "cell_type": "code",
   "execution_count": 91,
   "id": "f143c750",
   "metadata": {},
   "outputs": [
    {
     "name": "stdout",
     "output_type": "stream",
     "text": [
      "[2, 3, 5]\n"
     ]
    }
   ],
   "source": [
    "c = {5,2,3}\n",
    "print(sorted(c))"
   ]
  },
  {
   "cell_type": "code",
   "execution_count": 93,
   "id": "84e8b209",
   "metadata": {},
   "outputs": [
    {
     "name": "stdout",
     "output_type": "stream",
     "text": [
      "Enter Name: Aditya\n",
      "Enter City: Amravati\n",
      "Enter age: 19\n",
      "Enter Name: Alex\n",
      "Enter City: Nagpure\n",
      "Enter age: 20\n",
      "Enter Name: Michel\n",
      "Enter City: Mumbai\n",
      "Enter age: 21\n",
      "[('Aditya', 'Amravati', '19'), ('Alex', 'Nagpure', '20'), ('Michel', 'Mumbai', '21')]\n"
     ]
    }
   ],
   "source": [
    "#WAP to read info about 3 persons. Info contains name, city and age. \n",
    "#Create tuple object containing this(name,city,age).\n",
    "#Add this tuple into a list.\n",
    "#display this list containing three records\n",
    "\n",
    "lst = []\n",
    "\n",
    "for x in range(3):\n",
    "    name = input(\"Enter Name: \")\n",
    "    city = input(\"Enter City: \")\n",
    "    age = input(\"Enter age: \")\n",
    "    tp = (name,city,age)\n",
    "    lst.append(tp)\n",
    "print(lst)"
   ]
  },
  {
   "cell_type": "code",
   "execution_count": 94,
   "id": "4cf8838c",
   "metadata": {},
   "outputs": [
    {
     "name": "stdout",
     "output_type": "stream",
     "text": [
      "Enter name, city and age: Aditya Amravati 19\n",
      "Enter name, city and age: Alex Nagpure 20\n",
      "Enter name, city and age: Michel Mumbai 21\n",
      "[('Aditya', 'Amravati', '19'), ('Alex', 'Nagpure', '20'), ('Michel', 'Mumbai', '21')]\n"
     ]
    }
   ],
   "source": [
    "lst = []\n",
    "for x in range(3):\n",
    "    tp = tuple(input(\"Enter name, city and age: \").split())\n",
    "    lst.append(tp)\n",
    "print(lst)"
   ]
  },
  {
   "cell_type": "code",
   "execution_count": 95,
   "id": "08089310",
   "metadata": {},
   "outputs": [
    {
     "name": "stdout",
     "output_type": "stream",
     "text": [
      "Enter name, city and age: Aditya Amravati 19\n",
      "Enter name, city and age: Alex Nagpure 20\n",
      "Enter name, city and age: Michel Mumbai 21\n",
      "[('Aditya', 'Amravati', '19'), ('Alex', 'Nagpure', '20'), ('Michel', 'Mumbai', '21')]\n"
     ]
    }
   ],
   "source": [
    "lst = []\n",
    "for x in range(3):\n",
    "    lst.append(tuple(input(\"Enter name, city and age: \").split()))\n",
    "print(lst)"
   ]
  },
  {
   "cell_type": "markdown",
   "id": "9cc1f9bb",
   "metadata": {},
   "source": [
    "# 13/10/2021"
   ]
  },
  {
   "cell_type": "markdown",
   "id": "2ad2fc2a",
   "metadata": {},
   "source": [
    " <b><center style=\"font-size:40px;color:red;\">Set</center></b>"
   ]
  },
  {
   "cell_type": "markdown",
   "id": "f5fc390c",
   "metadata": {},
   "source": [
    "- Set is a data structure which is used to store collection of items\n",
    "### FEATURES\n",
    "    1. Set are <b>unordered</b> i.e. Its elements cannot be accessed by using index.\n",
    "    2. Set contain arbitrary objects. i.e. any type of objects.\n",
    "    3. Sets are <b>Mutable.</b> i.e. contents of set can be changed.\n",
    "    4. Set are <b>Dynamic.</b> i.e. contents can be added or removed.\n",
    "    5. Set cannot contain duplicate values. If given then they are ignored.\n",
    "    6. Set cannot be <b>nested</b>. i.e. Set cannot contain another collection in it.\n",
    "    7. A python set is similar to mathematical set.\n",
    "    8. The major advantage of using a set, as opposed to a list, is that it has a highly optimised method for checking whether a specific element is contained in the set.\n",
    "    9. This is based on a data structure known as a hash table. Its items may appear in any order.\n",
    "    10. There is no index attached to any element in a python set. So they do not support any indexing or slicing operation."
   ]
  },
  {
   "cell_type": "markdown",
   "id": "8f3b5ba8",
   "metadata": {},
   "source": [
    "### CREATING SET\n",
    "    1. By enclosing values in curly braces.\n",
    "    2. syntax:\n",
    "        - variable{value1,value2,...}\n",
    "    "
   ]
  },
  {
   "cell_type": "code",
   "execution_count": 5,
   "id": "a1d70593",
   "metadata": {},
   "outputs": [
    {
     "name": "stdout",
     "output_type": "stream",
     "text": [
      "{'feb', 'jan', 'mar'}\n",
      "<class 'set'>\n"
     ]
    }
   ],
   "source": [
    "Months={\"jan\",\"feb\",\"mar\"}\n",
    "print(Months)\n",
    "print(type(Months))"
   ]
  },
  {
   "cell_type": "markdown",
   "id": "eec3f63e",
   "metadata": {},
   "source": [
    "- by using constructor\n",
    "    - syntax:\n",
    "        - set(collection)"
   ]
  },
  {
   "cell_type": "code",
   "execution_count": 6,
   "id": "c19a42f5",
   "metadata": {},
   "outputs": [
    {
     "name": "stdout",
     "output_type": "stream",
     "text": [
      "{'feb', 'jan', 'mar'}\n",
      "<class 'set'>\n"
     ]
    }
   ],
   "source": [
    "lst=[\"jan\",\"feb\",\"mar\"]\n",
    "months = set(lst)\n",
    "print(months)\n",
    "print(type(months))"
   ]
  },
  {
   "cell_type": "markdown",
   "id": "a306c6a1",
   "metadata": {},
   "source": [
    "- <b>NOTE :</b>\n",
    "    - if empty {} are used it will create a dictionary and not a set\n",
    "    - We use its constructor set() to create empty set."
   ]
  },
  {
   "cell_type": "markdown",
   "id": "e023cb00",
   "metadata": {},
   "source": [
    "#### ACCESSING VALUES IN THE SET\n",
    "- We cannot access individual values in a set.\n",
    "- But we can get a list of individual elements by looping through the set."
   ]
  },
  {
   "cell_type": "code",
   "execution_count": 7,
   "id": "9fc6af78",
   "metadata": {},
   "outputs": [
    {
     "name": "stdout",
     "output_type": "stream",
     "text": [
      "1\t2\t3\t4\t5\t6\t7\t8\t9\t"
     ]
    }
   ],
   "source": [
    "numbers = {1,2,3,4,5,6,7,8,9}\n",
    "for num in numbers:\n",
    "    print(num,end=\"\\t\")"
   ]
  },
  {
   "cell_type": "markdown",
   "id": "272036ca",
   "metadata": {},
   "source": [
    "#### METHODS\n",
    "- <b>add(value)</b>\n",
    "    - Adds an element to the set."
   ]
  },
  {
   "cell_type": "code",
   "execution_count": 8,
   "id": "12e5a8a1",
   "metadata": {},
   "outputs": [
    {
     "name": "stdout",
     "output_type": "stream",
     "text": [
      "{'banana', 'cherry', 'apple', 'orange'}\n"
     ]
    }
   ],
   "source": [
    "fruits={\"apple\",\"banana\",\"cherry\"}\n",
    "fruits.add(\"orange\")\n",
    "print(fruits)"
   ]
  },
  {
   "cell_type": "markdown",
   "id": "7a80e2d7",
   "metadata": {},
   "source": [
    "- <b>clear()</b>\n",
    "    - Removes all the elements from the set.\n",
    "- <b>copy()</b>\n",
    "    - Returns a copy of the set."
   ]
  },
  {
   "cell_type": "code",
   "execution_count": 9,
   "id": "1e7e3fb6",
   "metadata": {},
   "outputs": [
    {
     "name": "stdout",
     "output_type": "stream",
     "text": [
      "set()\n",
      "{'orange', 'cherry', 'banana', 'apple'}\n"
     ]
    }
   ],
   "source": [
    "set1 = {'banana', 'cherry', 'apple', 'orange'}\n",
    "set2 = set1.copy()\n",
    "set1.clear()\n",
    "print(set1)\n",
    "print(set2)"
   ]
  },
  {
   "cell_type": "code",
   "execution_count": 12,
   "id": "be8ccc0c",
   "metadata": {},
   "outputs": [
    {
     "name": "stdout",
     "output_type": "stream",
     "text": [
      "set()\n",
      "set()\n"
     ]
    }
   ],
   "source": [
    "a = {7,11,14}\n",
    "b = a\n",
    "a.clear()\n",
    "print(a)\n",
    "print(b)"
   ]
  },
  {
   "cell_type": "markdown",
   "id": "9b376d89",
   "metadata": {},
   "source": [
    "- <b>pop()</b>\n",
    "    - removes a random item from the set.\n",
    "    - This method returns the removed item."
   ]
  },
  {
   "cell_type": "code",
   "execution_count": 15,
   "id": "47c273c4",
   "metadata": {},
   "outputs": [
    {
     "name": "stdout",
     "output_type": "stream",
     "text": [
      "banana\n",
      "{'cherry', 'apple'}\n"
     ]
    }
   ],
   "source": [
    "fruits={\"apple\",\"banana\",\"cherry\"}\n",
    "x = fruits.pop()\n",
    "print(x)\n",
    "print(fruits)"
   ]
  },
  {
   "cell_type": "markdown",
   "id": "40cd9f8b",
   "metadata": {},
   "source": [
    "- <b>remove(value)</b>\n",
    "- <b>discard(value)</b>\n",
    "    - Removes the specified element."
   ]
  },
  {
   "cell_type": "code",
   "execution_count": 16,
   "id": "cdf13cd4",
   "metadata": {},
   "outputs": [
    {
     "name": "stdout",
     "output_type": "stream",
     "text": [
      "{'cherry', 'apple'}\n"
     ]
    }
   ],
   "source": [
    "fruits={\"apple\",\"banana\",\"cherry\"}\n",
    "fruits.remove(\"banana\")\n",
    "print(fruits)"
   ]
  },
  {
   "cell_type": "markdown",
   "id": "50f9df8b",
   "metadata": {},
   "source": [
    "- <b>NOTE :</b>\n",
    "    - The remove() method will raise an error if the specified item does not exist, and the discard() method will not."
   ]
  },
  {
   "cell_type": "markdown",
   "id": "490b617c",
   "metadata": {},
   "source": [
    "- <b>union(collection)</b>\n",
    "    - Reurns a set containg the union of sets."
   ]
  },
  {
   "cell_type": "code",
   "execution_count": 17,
   "id": "e1811659",
   "metadata": {},
   "outputs": [
    {
     "name": "stdout",
     "output_type": "stream",
     "text": [
      "{1, 2, 3, 4, 5, 6, 7, 8, 9}\n"
     ]
    }
   ],
   "source": [
    "num1 = {1,2,3,4,5}\n",
    "num2 = [5,6,7,8,9,2,3]\n",
    "allnum = num1.union(num2)\n",
    "print(allnum)"
   ]
  },
  {
   "cell_type": "markdown",
   "id": "2c89a7d6",
   "metadata": {},
   "source": [
    "- <b>update(collection)</b>\n",
    "    - Update the set with the union of this set and others"
   ]
  },
  {
   "cell_type": "code",
   "execution_count": 20,
   "id": "9abf94fa",
   "metadata": {},
   "outputs": [
    {
     "name": "stdout",
     "output_type": "stream",
     "text": [
      "{1, 2, 3, 4, 5, 6, 7, 8, 9}\n"
     ]
    }
   ],
   "source": [
    "num1 = {1,2,3,4,5}\n",
    "num2 = [5,6,7,8,9,2,3]\n",
    "num1.update(num2)\n",
    "print(num1)"
   ]
  },
  {
   "cell_type": "markdown",
   "id": "1ce54ea5",
   "metadata": {},
   "source": [
    "# 14/10/2021"
   ]
  },
  {
   "cell_type": "markdown",
   "id": "26508e30",
   "metadata": {},
   "source": [
    "- <b>intersection(collection)</b>\n",
    "    - returns a set, that is the intersection of two other set."
   ]
  },
  {
   "cell_type": "code",
   "execution_count": 1,
   "id": "f993f26b",
   "metadata": {},
   "outputs": [
    {
     "name": "stdout",
     "output_type": "stream",
     "text": [
      "{'f', 't'}\n"
     ]
    }
   ],
   "source": [
    "d1 = {\"m\",\"t\",\"w\",\"f\"}\n",
    "d2 = {\"t\",\"f\",\"s\"}\n",
    "all_d = d1.intersection(d2)\n",
    "print(all_d)"
   ]
  },
  {
   "cell_type": "markdown",
   "id": "4a5d0eaa",
   "metadata": {},
   "source": [
    "- <b>intersection_update(collection)</b>\n",
    "    - Removes the items in this set that are not present in order, specified set."
   ]
  },
  {
   "cell_type": "code",
   "execution_count": 2,
   "id": "2fc9591b",
   "metadata": {},
   "outputs": [
    {
     "name": "stdout",
     "output_type": "stream",
     "text": [
      "{4, 5}\n"
     ]
    }
   ],
   "source": [
    "d1 = {1,2,3,4,5}\n",
    "d2 = {4,5,6,7,8,9}\n",
    "d1.intersection_update(d2)\n",
    "print(d1)"
   ]
  },
  {
   "cell_type": "markdown",
   "id": "12127559",
   "metadata": {},
   "source": [
    "- <b>difference(collection)</b>\n",
    "    - The difference operation on two sets produces a new set containing only the elements from the first set and none from second set."
   ]
  },
  {
   "cell_type": "code",
   "execution_count": 3,
   "id": "4c84bfc0",
   "metadata": {},
   "outputs": [
    {
     "name": "stdout",
     "output_type": "stream",
     "text": [
      "{'m', 'w'}\n"
     ]
    }
   ],
   "source": [
    "d1 = {\"m\",\"t\",\"w\",\"f\"}\n",
    "d2 = {\"t\",\"f\",\"s\"}\n",
    "all_d = d1.difference(d2)\n",
    "print(all_d)"
   ]
  },
  {
   "cell_type": "markdown",
   "id": "b066e00d",
   "metadata": {},
   "source": [
    "- <b>difference_update(collection)</b>\n",
    "    - Removes the items in this set that are also included in another, specified set."
   ]
  },
  {
   "cell_type": "code",
   "execution_count": 7,
   "id": "66e7cae7",
   "metadata": {},
   "outputs": [
    {
     "name": "stdout",
     "output_type": "stream",
     "text": [
      "{1, 2, 3}\n"
     ]
    }
   ],
   "source": [
    "d1 = {1,2,3,4,5}\n",
    "d2 = [4,5,6,7,8,9]\n",
    "d1.difference_update(d2)\n",
    "print(d1)"
   ]
  },
  {
   "cell_type": "markdown",
   "id": "00d67108",
   "metadata": {},
   "source": [
    "- <b>Union Opertor</b>\n",
    "    - The union opearation on two sets produces a new set containing all the distinct elements from both the sets.\n",
    "    - Syntax:\n",
    "        - <b style=\"color:red;font-size:20px;\">set1 | set2</b>\n",
    "    - NOTE : \n",
    "        - Only sets are allowed."
   ]
  },
  {
   "cell_type": "code",
   "execution_count": 10,
   "id": "869bbea8",
   "metadata": {},
   "outputs": [
    {
     "name": "stdout",
     "output_type": "stream",
     "text": [
      "{1, 2, 3, 4, 5, 6, 7, 8, 9}\n"
     ]
    }
   ],
   "source": [
    "num1 = {1,2,3,4,5}\n",
    "num2 = {4,5,6,7,8,9}\n",
    "#union operator\n",
    "num_all = num1 | num2\n",
    "\n",
    "print(num_all)"
   ]
  },
  {
   "cell_type": "markdown",
   "id": "05649043",
   "metadata": {},
   "source": [
    "- <b>Intersection Opertor</b>\n",
    "    - The intersection opearation on two sets produces a new set containing all the common elements from both the sets.\n",
    "    - Syntax:\n",
    "        - <b style=\"color:red;font-size:20px;\">set1 & set2</b>\n",
    "    - NOTE : \n",
    "        - Only sets are allowed."
   ]
  },
  {
   "cell_type": "code",
   "execution_count": 11,
   "id": "89efb9b8",
   "metadata": {},
   "outputs": [
    {
     "name": "stdout",
     "output_type": "stream",
     "text": [
      "{4, 5}\n"
     ]
    }
   ],
   "source": [
    "num1 = {1,2,3,4,5}\n",
    "num2 = {4,5,6,7,8,9}\n",
    "#intersection operator\n",
    "num_all = num1 & num2\n",
    "\n",
    "print(num_all)"
   ]
  },
  {
   "cell_type": "markdown",
   "id": "e9146c75",
   "metadata": {},
   "source": [
    "- <b>Difference operator</b>\n",
    "    - The difference operation on two setd produces a new set containing only the elements from the firse set and none from the second set.\n",
    "    - Syntax :\n",
    "        - <b style=\"color:red;font-size:20px;\">set1 - set2</b>\n",
    "    - NOTE : \n",
    "        - Only sets are allowed."
   ]
  },
  {
   "cell_type": "code",
   "execution_count": 13,
   "id": "2ee1b803",
   "metadata": {},
   "outputs": [
    {
     "name": "stdout",
     "output_type": "stream",
     "text": [
      "{1, 2, 3}\n"
     ]
    }
   ],
   "source": [
    "num1 = {1,2,3,4,5}\n",
    "num2 = {4,5,6,7,8,9}\n",
    "#Difference operator\n",
    "num_all = num1 - num2\n",
    "\n",
    "print(num_all)"
   ]
  },
  {
   "cell_type": "markdown",
   "id": "95c95131",
   "metadata": {},
   "source": [
    "- <b>Comparing sets by using Relational Operators</b>\n",
    "    - We can check if a given set is a subset or superset of another set.\n",
    "    - We can use operator \n",
    "        - <b>< &nbsp;&nbsp;&nbsp;  > &nbsp;&nbsp;&nbsp;  <=  &nbsp;&nbsp;&nbsp; >= &nbsp;&nbsp;&nbsp; != &nbsp;&nbsp;&nbsp; ==</b>\n",
    "    - The result is True or False depending on the elements present in the sets."
   ]
  },
  {
   "cell_type": "code",
   "execution_count": 18,
   "id": "51f34555",
   "metadata": {},
   "outputs": [],
   "source": [
    "num1 = {1,2,3}\n",
    "num2 = {1,2,3,4,5,6,7,8,9}"
   ]
  },
  {
   "cell_type": "code",
   "execution_count": 19,
   "id": "35272419",
   "metadata": {},
   "outputs": [
    {
     "data": {
      "text/plain": [
       "True"
      ]
     },
     "execution_count": 19,
     "metadata": {},
     "output_type": "execute_result"
    }
   ],
   "source": [
    "num1 <= num2"
   ]
  },
  {
   "cell_type": "code",
   "execution_count": 20,
   "id": "c92f3405",
   "metadata": {},
   "outputs": [
    {
     "data": {
      "text/plain": [
       "False"
      ]
     },
     "execution_count": 20,
     "metadata": {},
     "output_type": "execute_result"
    }
   ],
   "source": [
    "num1 == num2"
   ]
  },
  {
   "cell_type": "code",
   "execution_count": 21,
   "id": "56ca6b54",
   "metadata": {},
   "outputs": [
    {
     "data": {
      "text/plain": [
       "False"
      ]
     },
     "execution_count": 21,
     "metadata": {},
     "output_type": "execute_result"
    }
   ],
   "source": [
    "num1 >= num2"
   ]
  },
  {
   "cell_type": "code",
   "execution_count": 22,
   "id": "de003682",
   "metadata": {},
   "outputs": [
    {
     "data": {
      "text/plain": [
       "True"
      ]
     },
     "execution_count": 22,
     "metadata": {},
     "output_type": "execute_result"
    }
   ],
   "source": [
    "num1 != num2"
   ]
  },
  {
   "cell_type": "code",
   "execution_count": 23,
   "id": "121a99cc",
   "metadata": {},
   "outputs": [
    {
     "data": {
      "text/plain": [
       "True"
      ]
     },
     "execution_count": 23,
     "metadata": {},
     "output_type": "execute_result"
    }
   ],
   "source": [
    "num1 < num2"
   ]
  },
  {
   "cell_type": "code",
   "execution_count": 24,
   "id": "a56c0577",
   "metadata": {},
   "outputs": [
    {
     "data": {
      "text/plain": [
       "False"
      ]
     },
     "execution_count": 24,
     "metadata": {},
     "output_type": "execute_result"
    }
   ],
   "source": [
    "num1 > num2"
   ]
  },
  {
   "cell_type": "markdown",
   "id": "a330f1ed",
   "metadata": {},
   "source": [
    "# 18/10/2021"
   ]
  },
  {
   "cell_type": "markdown",
   "id": "d1c49370",
   "metadata": {},
   "source": [
    " <b><center style=\"font-size:40px;color:red;\">Dictionary</center></b>"
   ]
  },
  {
   "cell_type": "markdown",
   "id": "f2e6f744",
   "metadata": {},
   "source": [
    "- It is collection which can contains multiple values/objects mapped to a key.\n",
    "- Dictionary is as associative container which permits access based on a key, rather than an index.\n",
    "### FEATURES\n",
    "- it is mutable, i.e., its value can be changed.\n",
    "- it is dynamic i.e. elements can be add or remove at runtime.\n",
    "- it is ordered i.e. its element can be accessed by using a key.\n",
    "- it is can be nested i.e. a dictionary can contain another collection.\n",
    "#### SYNTAX\n",
    "- dict_name = {key1:value1, kay2:value2,...}\n",
    "- The pair i.e. key and value is known as item.\n",
    "- The key must be unique.\n",
    "- Value can be accessed by key.\n",
    "- values can be updated while key cannot be change.\n",
    "- ex:- my_dict = {1:\"Alex\",2:\"Prajwal\"}"
   ]
  },
  {
   "cell_type": "markdown",
   "id": "699bfacb",
   "metadata": {},
   "source": [
    "#### EMPTY DICTIONARY"
   ]
  },
  {
   "cell_type": "code",
   "execution_count": 1,
   "id": "df9b35a7",
   "metadata": {},
   "outputs": [
    {
     "name": "stdout",
     "output_type": "stream",
     "text": [
      "{}\n"
     ]
    }
   ],
   "source": [
    "empty_dictionary={}\n",
    "print(empty_dictionary)"
   ]
  },
  {
   "cell_type": "markdown",
   "id": "ffcc4c1c",
   "metadata": {},
   "source": [
    "#### DICTIONARY WITH INTEGER KEYS"
   ]
  },
  {
   "cell_type": "code",
   "execution_count": 2,
   "id": "59be7585",
   "metadata": {},
   "outputs": [
    {
     "name": "stdout",
     "output_type": "stream",
     "text": [
      "{1: 'Aditya', 2: 'Third Year'}\n"
     ]
    }
   ],
   "source": [
    "int_key_dictionary = {1:\"Aditya\", 2:\"Third Year\"}\n",
    "print(int_key_dictionary)"
   ]
  },
  {
   "cell_type": "markdown",
   "id": "b17bfe2b",
   "metadata": {},
   "source": [
    "#### DICTIONARY WITH STRING KEYS"
   ]
  },
  {
   "cell_type": "code",
   "execution_count": 3,
   "id": "25c5d1eb",
   "metadata": {},
   "outputs": [
    {
     "name": "stdout",
     "output_type": "stream",
     "text": [
      "{'Name': 'Aditya', 'Age': 19}\n"
     ]
    }
   ],
   "source": [
    "str_key_dictionary = {\"Name\":\"Aditya\", \"Age\":19}\n",
    "print(str_key_dictionary)"
   ]
  },
  {
   "cell_type": "markdown",
   "id": "015036f7",
   "metadata": {},
   "source": [
    "#### ACCESSING AN ELEMENTS\n",
    "- They can be accessed by keys.\n",
    "##### SYNTAX\n",
    "- dictionary_name[key]"
   ]
  },
  {
   "cell_type": "code",
   "execution_count": 4,
   "id": "d8145ea3",
   "metadata": {},
   "outputs": [
    {
     "name": "stdout",
     "output_type": "stream",
     "text": [
      "Amit\n",
      "[50, 60, 80, 90]\n"
     ]
    }
   ],
   "source": [
    "my_dictionary = {\"Name\":\"Amit\", \"Marks\":[50,60,80,90]}\n",
    "print(my_dictionary[\"Name\"])\n",
    "print(my_dictionary[\"Marks\"])"
   ]
  },
  {
   "cell_type": "markdown",
   "id": "b1b116f2",
   "metadata": {},
   "source": [
    "#### CONSTRUCTOR\n",
    "- It is used to create a dictionary from anaother dictionary\n",
    "##### SYNTAX\n",
    "- dictionary_name = dict(dictionary)"
   ]
  },
  {
   "cell_type": "code",
   "execution_count": 5,
   "id": "8d99d822",
   "metadata": {},
   "outputs": [
    {
     "name": "stdout",
     "output_type": "stream",
     "text": [
      "{1: 'Apple'}\n",
      "{1: 'Apple'}\n"
     ]
    }
   ],
   "source": [
    "dictionar_1 = {1:\"Apple\"}\n",
    "print(dictionar_1)\n",
    "\n",
    "new_dictionary = dict(dictionar_1)\n",
    "print(new_dictionary)"
   ]
  },
  {
   "cell_type": "markdown",
   "id": "6abd55bc",
   "metadata": {},
   "source": [
    "#### ADDING NEW ITEM\n",
    "- This can be achieved by providing a new key-value pair.\n",
    "##### SYNTAX\n",
    "- dictionary_object[new_key] = value"
   ]
  },
  {
   "cell_type": "code",
   "execution_count": 6,
   "id": "7a8573a0",
   "metadata": {},
   "outputs": [
    {
     "name": "stdout",
     "output_type": "stream",
     "text": [
      "{'FIRST_NAME': 'ADITYA'}\n",
      "{'FIRST_NAME': 'ADITYA', 'LAST_NAME': 'KALAMBE'}\n"
     ]
    }
   ],
   "source": [
    "d1 = {\"FIRST_NAME\":\"ADITYA\"}\n",
    "print(d1)\n",
    "d1[\"LAST_NAME\"]=\"KALAMBE\"\n",
    "print(d1)"
   ]
  },
  {
   "cell_type": "markdown",
   "id": "7070f642",
   "metadata": {},
   "source": [
    "#### UPDATING DICTIONARY\n",
    "- updating item\n",
    "    - This can be achieved by providing a new value to a existing key.\n",
    "##### SYNTAX\n",
    "- dictionary_object[existing_key] = new_value"
   ]
  },
  {
   "cell_type": "code",
   "execution_count": 7,
   "id": "b23b09ff",
   "metadata": {},
   "outputs": [
    {
     "name": "stdout",
     "output_type": "stream",
     "text": [
      "{'FIRST_NAME': 'ADITYA'}\n",
      "{'FIRST_NAME': 'ALEX'}\n"
     ]
    }
   ],
   "source": [
    "d1 = {\"FIRST_NAME\":\"ADITYA\"}\n",
    "print(d1)\n",
    "d1[\"FIRST_NAME\"]=\"ALEX\"\n",
    "print(d1)"
   ]
  },
  {
   "cell_type": "markdown",
   "id": "26e8d021",
   "metadata": {},
   "source": [
    "#### DELETING ITEM\n",
    "- This can be achieved by del keyword.\n",
    "##### SYNTAX\n",
    "- del dictionary_object[existing_key]"
   ]
  },
  {
   "cell_type": "code",
   "execution_count": 8,
   "id": "6270a38c",
   "metadata": {},
   "outputs": [
    {
     "name": "stdout",
     "output_type": "stream",
     "text": [
      "{'FIRST_NAME': 'ADITYA'}\n",
      "{}\n"
     ]
    }
   ],
   "source": [
    "d1 = {\"FIRST_NAME\":\"ADITYA\"}\n",
    "print(d1)\n",
    "del d1[\"FIRST_NAME\"]\n",
    "print(d1)"
   ]
  },
  {
   "cell_type": "markdown",
   "id": "f22ea4b6",
   "metadata": {},
   "source": [
    "### METHODS\n",
    "#### clear()\n",
    "- Removes all elements of a dictionary.\n",
    "##### SYNTAX\n",
    "- dict_name.clear()"
   ]
  },
  {
   "cell_type": "code",
   "execution_count": 9,
   "id": "c9124d68",
   "metadata": {},
   "outputs": [
    {
     "name": "stdout",
     "output_type": "stream",
     "text": [
      "{'FIRST_NAME': 'ADITYA', 2: 'ALEX'}\n",
      "{}\n"
     ]
    }
   ],
   "source": [
    "d1 = {\"FIRST_NAME\":\"ADITYA\",2:\"ALEX\"}\n",
    "print(d1)\n",
    "d1.clear()\n",
    "print(d1)"
   ]
  },
  {
   "cell_type": "markdown",
   "id": "656a6c44",
   "metadata": {},
   "source": [
    "#### copy()\n",
    "- Returns a copy of a dictionary."
   ]
  },
  {
   "cell_type": "code",
   "execution_count": 11,
   "id": "94ee6f94",
   "metadata": {},
   "outputs": [
    {
     "name": "stdout",
     "output_type": "stream",
     "text": [
      "{'FIRST_NAME': 'ADITYA'}\n",
      "{'FIRST_NAME': 'ADITYA'}\n"
     ]
    }
   ],
   "source": [
    "d1 = {\"FIRST_NAME\":\"ADITYA\"}\n",
    "print(d1)\n",
    "b = d1.copy()\n",
    "print(b)"
   ]
  },
  {
   "cell_type": "markdown",
   "id": "be963556",
   "metadata": {},
   "source": [
    "#### get(key, default=None)\n",
    "- return value of key or default if key is not present in the dictionary"
   ]
  },
  {
   "cell_type": "code",
   "execution_count": 12,
   "id": "04090388",
   "metadata": {},
   "outputs": [
    {
     "name": "stdout",
     "output_type": "stream",
     "text": [
      "None\n",
      "amravati\n"
     ]
    }
   ],
   "source": [
    "a = {\"name\":\"amit\"}\n",
    "\n",
    "print(a.get(\"city\"))\n",
    "\n",
    "print(a.get(\"city\", \"amravati\"))"
   ]
  },
  {
   "cell_type": "markdown",
   "id": "ac234c3c",
   "metadata": {},
   "source": [
    "####  update(dictionary)\n",
    "- add elements of a dictionary."
   ]
  },
  {
   "cell_type": "code",
   "execution_count": 13,
   "id": "1c899c4c",
   "metadata": {},
   "outputs": [
    {
     "name": "stdout",
     "output_type": "stream",
     "text": [
      "{'Name': 'Amit', 'Sex': 'Male'}\n"
     ]
    }
   ],
   "source": [
    "d1 = {\"Name\":\"Amit\"}\n",
    "d2 = {\"Sex\":\"Male\"}\n",
    "\n",
    "d1.update(d2)\n",
    "\n",
    "print(d1)"
   ]
  },
  {
   "cell_type": "markdown",
   "id": "f09f93f3",
   "metadata": {},
   "source": [
    "# 19/10/2021"
   ]
  },
  {
   "cell_type": "markdown",
   "id": "0b9e1034",
   "metadata": {},
   "source": [
    "#### values()\n",
    "- return list of dictionary values.\n"
   ]
  },
  {
   "cell_type": "markdown",
   "id": "8039e9aa",
   "metadata": {},
   "source": [
    "#### keys()\n",
    "- returns list of dictionary keys.\n"
   ]
  },
  {
   "cell_type": "markdown",
   "id": "7bddab9d",
   "metadata": {},
   "source": [
    "#### items()\n",
    "- returns list of (key, value) tuple pair."
   ]
  },
  {
   "cell_type": "code",
   "execution_count": 2,
   "id": "ba07b789",
   "metadata": {},
   "outputs": [
    {
     "name": "stdout",
     "output_type": "stream",
     "text": [
      "dict_keys(['name', 'age', 'city'])\n",
      "\n",
      "dict_values(['amit jain', 45, 'amravati'])\n",
      "\n",
      "dict_items([('name', 'amit jain'), ('age', 45), ('city', 'amravati')])\n",
      "\n"
     ]
    }
   ],
   "source": [
    "a = {\"name\":\"amit jain\", \"age\":45,\"city\":\"amravati\"}\n",
    "print(a.keys(),end=\"\\n\\n\")\n",
    "\n",
    "print(a.values(),end=\"\\n\\n\")\n",
    "\n",
    "print(a.items(),end=\"\\n\\n\")"
   ]
  },
  {
   "cell_type": "markdown",
   "id": "04316f71",
   "metadata": {},
   "source": [
    "### PROCESSING DICTIONARY\n",
    "- Items of dictionary can be processed byn using for loop.\n"
   ]
  },
  {
   "cell_type": "code",
   "execution_count": 4,
   "id": "52a87b2a",
   "metadata": {},
   "outputs": [
    {
     "name": "stdout",
     "output_type": "stream",
     "text": [
      "name amit jain\n",
      "age 45\n",
      "city amravati\n"
     ]
    }
   ],
   "source": [
    "my_dict = {\"name\":\"amit jain\", \"age\":45,\"city\":\"amravati\"}\n",
    "for key in my_dict:\n",
    "    print(key,my_dict[key])"
   ]
  },
  {
   "cell_type": "code",
   "execution_count": 7,
   "id": "de5bf88c",
   "metadata": {},
   "outputs": [
    {
     "name": "stdout",
     "output_type": "stream",
     "text": [
      "name amit jain\n",
      "age 45\n",
      "city amravati\n"
     ]
    }
   ],
   "source": [
    "my_dict = {\"name\":\"amit jain\", \"age\":45,\"city\":\"amravati\"}\n",
    "for key,value in my_dict.items():\n",
    "    print(key,value)"
   ]
  },
  {
   "cell_type": "code",
   "execution_count": 16,
   "id": "2592c288",
   "metadata": {},
   "outputs": [
    {
     "name": "stdout",
     "output_type": "stream",
     "text": [
      "{'Amit': 25000, 'Gopal': 75000, 'Mohan': 30000}\n",
      "\n",
      "{'Raj': 50000, 'Rohan': 40000, 'Amit': 50000, 'Mohan': 20000}\n",
      "\n",
      "{'Amit': 75000, 'Gopal': 75000, 'Mohan': 50000, 'Raj': 50000, 'Rohan': 40000}\n",
      "\n"
     ]
    }
   ],
   "source": [
    "# WAP to merge two dictionary collection to create a new collection.\n",
    "\n",
    "jan = {\"Amit\":25000,\"Gopal\":75000,\"Mohan\":30000}\n",
    "feb = {\"Raj\":50000,\"Rohan\":40000,\"Amit\":50000,\"Mohan\":20000}\n",
    "result = dict(jan)\n",
    "\n",
    "for key,val in feb.items():\n",
    "    if result.get(key) == None:\n",
    "        result[key] = val\n",
    "    else:\n",
    "        old_value = result.get(key)\n",
    "        result[key] = old_value + val\n",
    "        \n",
    "print(jan,end=\"\\n\\n\")\n",
    "print(feb,end=\"\\n\\n\")\n",
    "print(result,end=\"\\n\\n\")"
   ]
  },
  {
   "cell_type": "code",
   "execution_count": 20,
   "id": "2f3b478b",
   "metadata": {},
   "outputs": [
    {
     "name": "stdout",
     "output_type": "stream",
     "text": [
      "{'Amit': 75000, 'Mohan': 50000}\n"
     ]
    }
   ],
   "source": [
    "# WAP to merge two dictonary which will contain only common items with their total sales.\n",
    "\n",
    "jan = {\"Amit\":25000,\"Gopal\":75000,\"Mohan\":30000}\n",
    "feb = {\"Raj\":50000,\"Rohan\":40000,\"Amit\":50000,\"Mohan\":20000}\n",
    "result = {}\n",
    "\n",
    "for key_0,val_0 in jan.items():\n",
    "    for key_1,val_1 in feb.items():\n",
    "        if key_0 == key_1:\n",
    "            result[key_1] = val_0 + val_1\n",
    "\n",
    "print(result)"
   ]
  },
  {
   "cell_type": "code",
   "execution_count": 22,
   "id": "25542c7a",
   "metadata": {},
   "outputs": [
    {
     "name": "stdout",
     "output_type": "stream",
     "text": [
      "{'Amit': 75000, 'Mohan': 50000}\n"
     ]
    }
   ],
   "source": [
    "jan = {\"Amit\":25000,\"Gopal\":75000,\"Mohan\":30000}\n",
    "feb = {\"Raj\":50000,\"Rohan\":40000,\"Amit\":50000,\"Mohan\":20000}\n",
    "result = {}\n",
    "\n",
    "for key1,val1 in jan.items():\n",
    "    if feb.get(key1) != None:\n",
    "        val2 = feb.get(key1)\n",
    "        result[key1] = val1 + val2\n",
    "print(result)"
   ]
  },
  {
   "cell_type": "markdown",
   "id": "af13fea2",
   "metadata": {},
   "source": [
    "# 21/10/2021"
   ]
  },
  {
   "cell_type": "markdown",
   "id": "937b93bf",
   "metadata": {},
   "source": [
    "# MAP FUNCTION\n",
    "1. it is used to apply a given function to each item of an iterable(i.e. Collection for ex: list,tuple , etc.)\n",
    "2. syntax: map(function, iterable,..)\n",
    "    - Where:\n",
    "        1. function\n",
    "            - map() passes each item of the iterable to this transform function.\n",
    "        2. iterable\n",
    "            - iterable which is to be mapped.\n",
    "        3. NOTE\n",
    "            - you can pass more than one iterable on the map() function.\n",
    "3. It returns a Map iterator object of the results.\n",
    "4. Iterator object is a speciqal type of object to which we can apply a for loop to retrieve values from it.(Just like a range function returns an iterator object.)\n",
    "5. We can pass this iterator object s argument to functions like list(), set(), ..."
   ]
  },
  {
   "cell_type": "code",
   "execution_count": 20,
   "id": "33eec897",
   "metadata": {},
   "outputs": [
    {
     "name": "stdout",
     "output_type": "stream",
     "text": [
      "<map object at 0x00000230EEF0EF40>\n",
      "4\n",
      "3\n",
      "5\n",
      "[]\n"
     ]
    }
   ],
   "source": [
    "# WAP to find length of each name in the list\n",
    "\n",
    "names = [\"amit\", \"raj\", \"mohan\"]\n",
    "map_obj = map(len , names)\n",
    "print(map_obj)\n",
    "\n",
    "for item in map_obj:\n",
    "    print(item)\n",
    "\n",
    "nm = list(map_obj)\n",
    "print(nm)"
   ]
  },
  {
   "cell_type": "code",
   "execution_count": 23,
   "id": "f61130c7",
   "metadata": {},
   "outputs": [
    {
     "name": "stdout",
     "output_type": "stream",
     "text": [
      "AMIT\n",
      "RAJ\n",
      "MOHAN\n"
     ]
    }
   ],
   "source": [
    "# WAP to convert each names n a list to uppercase\n",
    "def my_fun(nm):\n",
    "    return nm.upper()\n",
    "\n",
    "names = [\"amit\", \"raj\", \"mohan\"]\n",
    "map_obj = map(my_fun , names) # Upper is method and hence we create a new function here\n",
    "\n",
    "for item in map_obj:\n",
    "    print(item)"
   ]
  },
  {
   "cell_type": "code",
   "execution_count": 24,
   "id": "f3094b9a",
   "metadata": {},
   "outputs": [
    {
     "name": "stdout",
     "output_type": "stream",
     "text": [
      "amit jain\n",
      "raj rathi\n",
      "mohan joshi\n"
     ]
    }
   ],
   "source": [
    "# WAP to combine first and last name from 2 different list\n",
    "\n",
    "def my_fun(val1,val2):\n",
    "    return val1+\" \"+val2\n",
    "\n",
    "f_names = ['amit','raj','mohan','radha']\n",
    "l_names = ['jain','rathi','joshi']\n",
    "\n",
    "f_l_names = map(my_fun, f_names, l_names)\n",
    "\n",
    "for item in f_l_names:\n",
    "    print(item)"
   ]
  },
  {
   "cell_type": "markdown",
   "id": "704141f2",
   "metadata": {},
   "source": [
    "# 22/10/2021"
   ]
  },
  {
   "cell_type": "code",
   "execution_count": 1,
   "id": "b03671ab",
   "metadata": {},
   "outputs": [
    {
     "name": "stdout",
     "output_type": "stream",
     "text": [
      "Enter Numbers: 1 2 3 4 5 6 7 8 9 10\n",
      "Sum is  55\n"
     ]
    }
   ],
   "source": [
    "# WAP to read multiple numbers and find their sum\n",
    "\n",
    "numbers = map(int, input(\"Enter Numbers: \").split())\n",
    "s=0\n",
    "for x in numbers:\n",
    "    s+=x\n",
    "else:\n",
    "    print(\"Sum is \",s)"
   ]
  },
  {
   "cell_type": "code",
   "execution_count": 10,
   "id": "7672df0a",
   "metadata": {},
   "outputs": [
    {
     "name": "stdout",
     "output_type": "stream",
     "text": [
      "Enter numbers: 1 2 3 4 5 6 7 8 9 10\n",
      "List of Numbers are:  [1, 2, 3, 4, 5, 6, 7, 8, 9, 10]\n",
      "List of Factorial of Numbers are:  [1, 2, 6, 24, 120, 720, 5040, 40320, 362880, 3628800]\n"
     ]
    }
   ],
   "source": [
    "# WAP to read multiple numbers and find factorial of all numbers in a list\n",
    "\n",
    "def fact(n):\n",
    "    if n==0:\n",
    "        return 1\n",
    "    else:\n",
    "        return fact(n-1) * n\n",
    "    \n",
    "numbers = list( map(int, input(\"Enter numbers: \").split() ) )\n",
    "print(\"List of Numbers are: \",numbers)\n",
    "\n",
    "factorial_numbers = list(map(fact, numbers))\n",
    "print(\"List of Factorial of Numbers are: \",factorial_numbers)"
   ]
  },
  {
   "cell_type": "code",
   "execution_count": 12,
   "id": "7e49cf4f",
   "metadata": {},
   "outputs": [
    {
     "name": "stdout",
     "output_type": "stream",
     "text": [
      "Enter the numbers: 1 2 3 4 5 6 7 8 9 10\n",
      "List of Numbers are:  [1, 2, 3, 4, 5, 6, 7, 8, 9, 10]\n",
      "['ODD', 'EVEN', 'ODD', 'EVEN', 'ODD', 'EVEN', 'ODD', 'EVEN', 'ODD', 'EVEN']\n"
     ]
    }
   ],
   "source": [
    "# WAP to read numbers and generate a collection of words even or odd from a given input\n",
    "\n",
    "def myfun(num):\n",
    "    if num %2 == 0:\n",
    "        return \"EVEN\"\n",
    "    else:\n",
    "        return \"ODD\"\n",
    "\n",
    "numbers = list( map(int, input(\"Enter the numbers: \").split() ) )\n",
    "print(\"List of Numbers are: \",numbers)\n",
    "\n",
    "collection_of_words = list( map(myfun, numbers) )\n",
    "print(collection_of_words)"
   ]
  },
  {
   "cell_type": "markdown",
   "id": "98da299c",
   "metadata": {},
   "source": [
    "# 25/10/2021"
   ]
  },
  {
   "cell_type": "markdown",
   "id": "5287fdab",
   "metadata": {},
   "source": [
    "# EXCEPTION HANDLING\n",
    "\n",
    "1. It is a technique of handling runtime errors in strtctured way.\n",
    "2. An exception is an error that happens during execution of a program.\n",
    "3. When a error occurs, python generates an exception type of object representing that error and throws it.\n",
    "4. Our program must catch that exception and handle the error accordingly, which avoids your program from being crash.\n",
    "5. In case if exception is not handled, then the code is not executed further and hence execution stops.\n",
    "\n",
    "## COMMON EXCEPTIONS\n",
    "- Python throws different type of Exception Object on different error.\n",
    "- Some common exception are :\n",
    "1. NameError\n",
    "    - This occcurs when a variable is not defined, it hasn't been assigned\n",
    "    "
   ]
  },
  {
   "cell_type": "code",
   "execution_count": 10,
   "id": "b159a79d",
   "metadata": {
    "scrolled": true
   },
   "outputs": [
    {
     "ename": "NameError",
     "evalue": "name 'd' is not defined",
     "output_type": "error",
     "traceback": [
      "\u001b[1;31m---------------------------------------------------------------------------\u001b[0m",
      "\u001b[1;31mNameError\u001b[0m                                 Traceback (most recent call last)",
      "\u001b[1;32m<ipython-input-10-53efcadc6dde>\u001b[0m in \u001b[0;36m<module>\u001b[1;34m\u001b[0m\n\u001b[0;32m      1\u001b[0m \u001b[0ma\u001b[0m \u001b[1;33m=\u001b[0m \u001b[1;36m2\u001b[0m\u001b[1;33m\u001b[0m\u001b[1;33m\u001b[0m\u001b[0m\n\u001b[1;32m----> 2\u001b[1;33m \u001b[0mc\u001b[0m \u001b[1;33m=\u001b[0m \u001b[0ma\u001b[0m \u001b[1;33m+\u001b[0m \u001b[0md\u001b[0m\u001b[1;33m\u001b[0m\u001b[1;33m\u001b[0m\u001b[0m\n\u001b[0m",
      "\u001b[1;31mNameError\u001b[0m: name 'd' is not defined"
     ]
    }
   ],
   "source": [
    "a = 2\n",
    "c = a + d"
   ]
  },
  {
   "cell_type": "markdown",
   "id": "fb9713b0",
   "metadata": {},
   "source": [
    "2. TypeError\n",
    "    - An operation or function is applied to the wrong type."
   ]
  },
  {
   "cell_type": "code",
   "execution_count": 8,
   "id": "30fe0f87",
   "metadata": {},
   "outputs": [
    {
     "ename": "TypeError",
     "evalue": "unsupported operand type(s) for /: 'str' and 'int'",
     "output_type": "error",
     "traceback": [
      "\u001b[1;31m---------------------------------------------------------------------------\u001b[0m",
      "\u001b[1;31mTypeError\u001b[0m                                 Traceback (most recent call last)",
      "\u001b[1;32m<ipython-input-8-8c903c41bf51>\u001b[0m in \u001b[0;36m<module>\u001b[1;34m\u001b[0m\n\u001b[1;32m----> 1\u001b[1;33m \u001b[0ma\u001b[0m \u001b[1;33m=\u001b[0m \u001b[1;34m\"10\"\u001b[0m\u001b[1;33m;\u001b[0m \u001b[0mb\u001b[0m \u001b[1;33m=\u001b[0m \u001b[1;36m2\u001b[0m \u001b[1;33m;\u001b[0m \u001b[0mc\u001b[0m \u001b[1;33m=\u001b[0m \u001b[0ma\u001b[0m\u001b[1;33m/\u001b[0m\u001b[0mb\u001b[0m\u001b[1;33m\u001b[0m\u001b[1;33m\u001b[0m\u001b[0m\n\u001b[0m",
      "\u001b[1;31mTypeError\u001b[0m: unsupported operand type(s) for /: 'str' and 'int'"
     ]
    }
   ],
   "source": [
    "a = \"10\"\n",
    "b = 2\n",
    "c = a/b"
   ]
  },
  {
   "cell_type": "markdown",
   "id": "94bbf1a0",
   "metadata": {},
   "source": [
    "3. ValueError\n",
    "    - This occurs an argument that has the right type but an inappropriate value."
   ]
  },
  {
   "cell_type": "code",
   "execution_count": 7,
   "id": "2fc52dd6",
   "metadata": {},
   "outputs": [
    {
     "ename": "ValueError",
     "evalue": "math domain error",
     "output_type": "error",
     "traceback": [
      "\u001b[1;31m---------------------------------------------------------------------------\u001b[0m",
      "\u001b[1;31mValueError\u001b[0m                                Traceback (most recent call last)",
      "\u001b[1;32m<ipython-input-7-51e7e0141df1>\u001b[0m in \u001b[0;36m<module>\u001b[1;34m\u001b[0m\n\u001b[0;32m      1\u001b[0m \u001b[1;32mimport\u001b[0m \u001b[0mmath\u001b[0m\u001b[1;33m\u001b[0m\u001b[1;33m\u001b[0m\u001b[0m\n\u001b[0;32m      2\u001b[0m \u001b[0ma\u001b[0m \u001b[1;33m=\u001b[0m \u001b[1;33m-\u001b[0m\u001b[1;36m3.2\u001b[0m\u001b[1;33m\u001b[0m\u001b[1;33m\u001b[0m\u001b[0m\n\u001b[1;32m----> 3\u001b[1;33m \u001b[0mprint\u001b[0m\u001b[1;33m(\u001b[0m\u001b[0mmath\u001b[0m\u001b[1;33m.\u001b[0m\u001b[0msqrt\u001b[0m\u001b[1;33m(\u001b[0m\u001b[0ma\u001b[0m\u001b[1;33m)\u001b[0m\u001b[1;33m)\u001b[0m\u001b[1;33m\u001b[0m\u001b[1;33m\u001b[0m\u001b[0m\n\u001b[0m",
      "\u001b[1;31mValueError\u001b[0m: math domain error"
     ]
    }
   ],
   "source": [
    "import math\n",
    "a = -3.2\n",
    "print(math.sqrt(a))"
   ]
  },
  {
   "cell_type": "markdown",
   "id": "3230d769",
   "metadata": {},
   "source": [
    "4. ZeroDivisionEror\n",
    "    - occurs when a number is divided by zero"
   ]
  },
  {
   "cell_type": "code",
   "execution_count": 4,
   "id": "83d4f92d",
   "metadata": {},
   "outputs": [
    {
     "ename": "ZeroDivisionError",
     "evalue": "division by zero",
     "output_type": "error",
     "traceback": [
      "\u001b[1;31m---------------------------------------------------------------------------\u001b[0m",
      "\u001b[1;31mZeroDivisionError\u001b[0m                         Traceback (most recent call last)",
      "\u001b[1;32m<ipython-input-4-e52bb61b04b9>\u001b[0m in \u001b[0;36m<module>\u001b[1;34m\u001b[0m\n\u001b[0;32m      1\u001b[0m \u001b[0ma\u001b[0m \u001b[1;33m=\u001b[0m \u001b[1;36m5\u001b[0m\u001b[1;33m\u001b[0m\u001b[1;33m\u001b[0m\u001b[0m\n\u001b[0;32m      2\u001b[0m \u001b[0mb\u001b[0m \u001b[1;33m=\u001b[0m \u001b[1;36m0\u001b[0m\u001b[1;33m\u001b[0m\u001b[1;33m\u001b[0m\u001b[0m\n\u001b[1;32m----> 3\u001b[1;33m \u001b[0mc\u001b[0m \u001b[1;33m=\u001b[0m \u001b[0ma\u001b[0m\u001b[1;33m/\u001b[0m\u001b[0mb\u001b[0m\u001b[1;33m\u001b[0m\u001b[1;33m\u001b[0m\u001b[0m\n\u001b[0m",
      "\u001b[1;31mZeroDivisionError\u001b[0m: division by zero"
     ]
    }
   ],
   "source": [
    "a = 5\n",
    "b = 0\n",
    "c = a/b"
   ]
  },
  {
   "cell_type": "markdown",
   "id": "c673ae69",
   "metadata": {},
   "source": [
    "5. IOError\n",
    "    - It occurs when input output operartion falis."
   ]
  },
  {
   "cell_type": "code",
   "execution_count": 5,
   "id": "a76577a7",
   "metadata": {},
   "outputs": [
    {
     "ename": "FileNotFoundError",
     "evalue": "[Errno 2] No such file or directory: 'Demo.txt'",
     "output_type": "error",
     "traceback": [
      "\u001b[1;31m---------------------------------------------------------------------------\u001b[0m",
      "\u001b[1;31mFileNotFoundError\u001b[0m                         Traceback (most recent call last)",
      "\u001b[1;32m<ipython-input-5-73203f47d3ec>\u001b[0m in \u001b[0;36m<module>\u001b[1;34m\u001b[0m\n\u001b[1;32m----> 1\u001b[1;33m \u001b[0mfile\u001b[0m \u001b[1;33m=\u001b[0m \u001b[0mopen\u001b[0m\u001b[1;33m(\u001b[0m\u001b[1;34m\"Demo.txt\"\u001b[0m\u001b[1;33m)\u001b[0m\u001b[1;33m\u001b[0m\u001b[1;33m\u001b[0m\u001b[0m\n\u001b[0m",
      "\u001b[1;31mFileNotFoundError\u001b[0m: [Errno 2] No such file or directory: 'Demo.txt'"
     ]
    }
   ],
   "source": [
    "file = open(\"Demo.txt\")"
   ]
  },
  {
   "cell_type": "markdown",
   "id": "755a1d7c",
   "metadata": {},
   "source": [
    "6. IndexError\n",
    "    - An IndexError is raised when a sequence is referenced which is out of range."
   ]
  },
  {
   "cell_type": "code",
   "execution_count": 6,
   "id": "b72b209d",
   "metadata": {},
   "outputs": [
    {
     "ename": "IndexError",
     "evalue": "list index out of range",
     "output_type": "error",
     "traceback": [
      "\u001b[1;31m---------------------------------------------------------------------------\u001b[0m",
      "\u001b[1;31mIndexError\u001b[0m                                Traceback (most recent call last)",
      "\u001b[1;32m<ipython-input-6-4417bf9251c9>\u001b[0m in \u001b[0;36m<module>\u001b[1;34m\u001b[0m\n\u001b[0;32m      1\u001b[0m \u001b[0marr\u001b[0m \u001b[1;33m=\u001b[0m \u001b[1;33m[\u001b[0m\u001b[1;34m\"ram\"\u001b[0m\u001b[1;33m,\u001b[0m\u001b[1;34m\"shyam\"\u001b[0m\u001b[1;33m,\u001b[0m\u001b[1;34m\"gopal\"\u001b[0m\u001b[1;33m]\u001b[0m\u001b[1;33m\u001b[0m\u001b[1;33m\u001b[0m\u001b[0m\n\u001b[1;32m----> 2\u001b[1;33m \u001b[0mprint\u001b[0m\u001b[1;33m(\u001b[0m\u001b[0marr\u001b[0m\u001b[1;33m[\u001b[0m\u001b[1;36m5\u001b[0m\u001b[1;33m]\u001b[0m\u001b[1;33m)\u001b[0m\u001b[1;33m\u001b[0m\u001b[1;33m\u001b[0m\u001b[0m\n\u001b[0m",
      "\u001b[1;31mIndexError\u001b[0m: list index out of range"
     ]
    }
   ],
   "source": [
    "arr = [\"ram\",\"shyam\",\"gopal\"]\n",
    "print(arr[5])"
   ]
  },
  {
   "cell_type": "markdown",
   "id": "74f878aa",
   "metadata": {},
   "source": [
    "7. Exception\n",
    "    - It is a base type for all exception.\n",
    "    - It is used to handle all type of exception.\n",
    "    - We can derieve our exception classes from with class."
   ]
  },
  {
   "cell_type": "markdown",
   "id": "2aa96d9f",
   "metadata": {},
   "source": [
    "### Python provides special keywords for exception handling.\n",
    "\n",
    "#### SYNTAX:"
   ]
  },
  {
   "cell_type": "raw",
   "id": "ef1e69fb",
   "metadata": {},
   "source": [
    "try:\n",
    "    statement\n",
    "    ---------\n",
    "except exceptionX as e:\n",
    "    statement\n",
    "    ---------\n",
    "except exceptionY as e:\n",
    "    statement\n",
    "    ---------\n",
    ".\n",
    ".\n",
    ".\n",
    "else:\n",
    "    statement\n",
    "    ---------\n",
    "finally:\n",
    "    statement\n",
    "    ---------"
   ]
  },
  {
   "cell_type": "markdown",
   "id": "3b175b05",
   "metadata": {},
   "source": [
    "1. try:\n",
    "    - The code where run time error may occur must be enclosed in the try block.\n",
    "2. except:\n",
    "    - Except statement is used to catch Exception.\n",
    "    - In case that exception is occured, the corresponding statement will be executed.\n",
    "    - There can be multiple except statement to catch different Exception3\n",
    "3. else:\n",
    "    - This code will be executed if no exception occurs in the try block.\n",
    "4. finally:\n",
    "    - This code will be executed, whether exception occurs or not.\n",
    "- NOTE: except, else, finally is optional"
   ]
  },
  {
   "cell_type": "code",
   "execution_count": 11,
   "id": "9540b838",
   "metadata": {},
   "outputs": [
    {
     "name": "stdout",
     "output_type": "stream",
     "text": [
      "START\n",
      "2.0\n",
      "No Error\n",
      "Always Executed...\n"
     ]
    }
   ],
   "source": [
    "try:\n",
    "    print(\"START\")\n",
    "    z = 4/2\n",
    "    print(z)\n",
    "    \n",
    "except ZeroDivisionError:\n",
    "    print(\"Divided by Zero\")\n",
    "    \n",
    "except ValueError:\n",
    "    print(\"Value Error\")\n",
    "    \n",
    "else:\n",
    "    print(\"No Error\")\n",
    "    \n",
    "finally:\n",
    "    print(\"Always Executed...\")"
   ]
  },
  {
   "cell_type": "code",
   "execution_count": 12,
   "id": "d2b2ac29",
   "metadata": {},
   "outputs": [
    {
     "name": "stdout",
     "output_type": "stream",
     "text": [
      "START\n",
      "Divided by Zero\n",
      "Always Executed...\n"
     ]
    }
   ],
   "source": [
    "try:\n",
    "    print(\"START\")\n",
    "    z = 4/0\n",
    "    print(z)\n",
    "    \n",
    "except ZeroDivisionError:\n",
    "    print(\"Divided by Zero\")\n",
    "    \n",
    "except ValueError:\n",
    "    print(\"Value Error\")\n",
    "    \n",
    "else:\n",
    "    print(\"No Error\")\n",
    "    \n",
    "finally:\n",
    "    print(\"Always Executed...\")"
   ]
  },
  {
   "cell_type": "code",
   "execution_count": 16,
   "id": "666085aa",
   "metadata": {},
   "outputs": [
    {
     "name": "stdout",
     "output_type": "stream",
     "text": [
      "START\n",
      "Name Error\n",
      "Always Executed...\n"
     ]
    }
   ],
   "source": [
    "try:\n",
    "    print(\"START\")\n",
    "    z = 4/d\n",
    "    print(z)\n",
    "    \n",
    "except ZeroDivisionError:\n",
    "    print(\"Divided by Zero\")\n",
    "    \n",
    "except ValueError:\n",
    "    print(\"Value Error\")\n",
    "\n",
    "except NameError:\n",
    "    print(\"Name Error\")\n",
    "    \n",
    "else:\n",
    "    print(\"No Error\")\n",
    "    \n",
    "finally:\n",
    "    print(\"Always Executed...\")"
   ]
  },
  {
   "cell_type": "markdown",
   "id": "239df2f0",
   "metadata": {},
   "source": [
    "## EXCEPTION PROPOGATION\n",
    "1. If some run time error is occured in a function and in that function that exception is not handled then that exception is thrown in the function from where that function is called.\n",
    "2. This is called Exception Propogation."
   ]
  },
  {
   "cell_type": "code",
   "execution_count": 17,
   "id": "b0e8918d",
   "metadata": {},
   "outputs": [
    {
     "name": "stdout",
     "output_type": "stream",
     "text": [
      "open file\n",
      "division by zero\n",
      "Always Executed...\n"
     ]
    }
   ],
   "source": [
    "def test():\n",
    "    \n",
    "    print(\"open file\")\n",
    "    z = 4/0\n",
    "    print(z)\n",
    "    \n",
    "    print(\"file close\")\n",
    "    \n",
    "try:\n",
    "    test()\n",
    "except Exception as e:\n",
    "    print(e)\n",
    "else:\n",
    "    print(\"no error\")\n",
    "finally:\n",
    "    print(\"Always Executed...\")"
   ]
  },
  {
   "cell_type": "code",
   "execution_count": 18,
   "id": "66950619",
   "metadata": {},
   "outputs": [
    {
     "name": "stdout",
     "output_type": "stream",
     "text": [
      "open file\n",
      "file close\n",
      "division by zero\n",
      "Always Executed...\n"
     ]
    }
   ],
   "source": [
    "def test():\n",
    "    try:\n",
    "        print(\"open file\")\n",
    "        z = 4/0\n",
    "        print(z)\n",
    "    finally:\n",
    "        print(\"file close\")\n",
    "    \n",
    "try:\n",
    "    test()\n",
    "except Exception as e:\n",
    "    print(e)\n",
    "else:\n",
    "    print(\"no error\")\n",
    "finally:\n",
    "    print(\"Always Executed...\")"
   ]
  },
  {
   "cell_type": "markdown",
   "id": "83ecdce1",
   "metadata": {},
   "source": [
    "# 26/10/2021"
   ]
  },
  {
   "cell_type": "markdown",
   "id": "124e6b4f",
   "metadata": {},
   "source": [
    "### RAISE STATEMENT\n",
    "1. An exception can be raised by using the raise statement.\n",
    "#### SYNTAX:\n",
    "    - raised ExceptionObject"
   ]
  },
  {
   "cell_type": "code",
   "execution_count": 3,
   "id": "c68fe1f7",
   "metadata": {},
   "outputs": [
    {
     "name": "stdout",
     "output_type": "stream",
     "text": [
      "Enter age: 16\n",
      "The age is valid\n"
     ]
    }
   ],
   "source": [
    "try:\n",
    "    age = int(input(\"Enter age: \"))\n",
    "    if age<0 :\n",
    "        raise ValueError\n",
    "    else:\n",
    "        print(\"The age is valid\")\n",
    "\n",
    "except ValueError:\n",
    "    print(\"The age is not valid\")"
   ]
  },
  {
   "cell_type": "markdown",
   "id": "760aa297",
   "metadata": {},
   "source": [
    "### CUSTOM EXCEPTION\n",
    "1. We can create our own exceptions that can be raised from the program and caught using the except caluse.\n",
    "2. The custom exception class must be created from base class Exception."
   ]
  },
  {
   "cell_type": "code",
   "execution_count": 5,
   "id": "135beb62",
   "metadata": {},
   "outputs": [
    {
     "name": "stdout",
     "output_type": "stream",
     "text": [
      "Enter age: 15\n",
      "The age is valid\n"
     ]
    }
   ],
   "source": [
    "class AgeError(Exception):\n",
    "    pass\n",
    "\n",
    "try:\n",
    "    age = int(input(\"Enter age: \"))\n",
    "    if age<0 :\n",
    "        raise AgeError()\n",
    "    else:\n",
    "        print(\"The age is valid\")\n",
    "\n",
    "except AgeError:\n",
    "    print(\"The age is not valid\")"
   ]
  },
  {
   "cell_type": "markdown",
   "id": "9118a4aa",
   "metadata": {},
   "source": [
    "## LAMBDA FUNCTION\n",
    "1. A lambda function is a small single line anonymous function.\n",
    "#### SYNTAX:\n",
    "    > lambda arguments : expression"
   ]
  },
  {
   "cell_type": "code",
   "execution_count": 6,
   "id": "0ef984f3",
   "metadata": {},
   "outputs": [
    {
     "name": "stdout",
     "output_type": "stream",
     "text": [
      "78.5\n"
     ]
    }
   ],
   "source": [
    "area = lambda r : 3.14*r*r\n",
    "print(area(5))"
   ]
  },
  {
   "cell_type": "markdown",
   "id": "5b73a40c",
   "metadata": {},
   "source": [
    "2. A labda fuction can take any number of arguments, but can have only one expression.\n",
    "3. The expression is executed and the result is returned."
   ]
  },
  {
   "cell_type": "code",
   "execution_count": 10,
   "id": "26102370",
   "metadata": {},
   "outputs": [
    {
     "name": "stdout",
     "output_type": "stream",
     "text": [
      "125\n"
     ]
    }
   ],
   "source": [
    "cube = lambda a : a ** 3\n",
    "print(cube(5))"
   ]
  },
  {
   "cell_type": "code",
   "execution_count": 11,
   "id": "df1023fe",
   "metadata": {},
   "outputs": [
    {
     "name": "stdout",
     "output_type": "stream",
     "text": [
      "30\n"
     ]
    }
   ],
   "source": [
    "test = lambda a,b : a * b\n",
    "print(test(5,6))"
   ]
  },
  {
   "cell_type": "markdown",
   "id": "301494f8",
   "metadata": {},
   "source": [
    "### LAMBDA EXPRESSION WITH MAP\n",
    "1. First argument of map is transformed function.\n",
    "2. So we can pass lambda expression as first argument instead of function."
   ]
  },
  {
   "cell_type": "code",
   "execution_count": 13,
   "id": "f1ca5608",
   "metadata": {},
   "outputs": [
    {
     "name": "stdout",
     "output_type": "stream",
     "text": [
      "[64, 27, 125]\n"
     ]
    }
   ],
   "source": [
    "# WAP to find cube of each number in list\n",
    "\n",
    "nlst = [4, 3, 5]\n",
    "cube = map(lambda x : x ** 3, nlst)\n",
    "print(list(cube))"
   ]
  },
  {
   "cell_type": "code",
   "execution_count": 18,
   "id": "e78572d1",
   "metadata": {},
   "outputs": [
    {
     "name": "stdout",
     "output_type": "stream",
     "text": [
      "<map object at 0x000001A3CDDD3340>\n",
      "['Amit Jain', 'Raj Rathi', 'Mohan Joshi']\n"
     ]
    }
   ],
   "source": [
    "# WAP to combine first name and last name from 2 different list\n",
    "\n",
    "flst = [\"Amit\", \"Raj\", \"Mohan\", \"Radha\"]\n",
    "llst = [\"Jain\", \"Rathi\", \"Joshi\"]\n",
    "\n",
    "full_name = map(lambda x,y : x+\" \"+y, flst, llst)\n",
    "\n",
    "print(full_name)\n",
    "print(list(full_name))"
   ]
  },
  {
   "cell_type": "markdown",
   "id": "9ae77e7f",
   "metadata": {},
   "source": [
    "# ITERABLES AND ITERATORS\n",
    "1. Python built in containers are i.e. list, tuple, string etc. are iterables.\n",
    "2. Iterator is an object which will return data, one element at a time from an iterable object.\n",
    "3. An object is called iterable if we can get an iterator from it.\n",
    "4. An iterator can be created by using function.\n",
    "    - iter( iterable )\n",
    "        - It return an iterator type of object\n",
    "5. Next item from iterable can be get by using function:\n",
    "    - next( iterator )\n",
    "        - It return next value from iterable.\n",
    "        - This function will throw an exception StopIteration when it reaches end of the iterables."
   ]
  },
  {
   "cell_type": "code",
   "execution_count": 20,
   "id": "33a0b7c6",
   "metadata": {},
   "outputs": [
    {
     "name": "stdout",
     "output_type": "stream",
     "text": [
      "Ram\n",
      "Shyam\n",
      "Gopal\n"
     ]
    },
    {
     "ename": "StopIteration",
     "evalue": "",
     "output_type": "error",
     "traceback": [
      "\u001b[1;31m---------------------------------------------------------------------------\u001b[0m",
      "\u001b[1;31mStopIteration\u001b[0m                             Traceback (most recent call last)",
      "\u001b[1;32m<ipython-input-20-0b9d1dd071f7>\u001b[0m in \u001b[0;36m<module>\u001b[1;34m\u001b[0m\n\u001b[0;32m      4\u001b[0m \u001b[0mprint\u001b[0m\u001b[1;33m(\u001b[0m\u001b[0mnext\u001b[0m\u001b[1;33m(\u001b[0m\u001b[0mp\u001b[0m\u001b[1;33m)\u001b[0m\u001b[1;33m)\u001b[0m\u001b[1;33m\u001b[0m\u001b[1;33m\u001b[0m\u001b[0m\n\u001b[0;32m      5\u001b[0m \u001b[0mprint\u001b[0m\u001b[1;33m(\u001b[0m\u001b[0mnext\u001b[0m\u001b[1;33m(\u001b[0m\u001b[0mp\u001b[0m\u001b[1;33m)\u001b[0m\u001b[1;33m)\u001b[0m\u001b[1;33m\u001b[0m\u001b[1;33m\u001b[0m\u001b[0m\n\u001b[1;32m----> 6\u001b[1;33m \u001b[0mprint\u001b[0m\u001b[1;33m(\u001b[0m\u001b[0mnext\u001b[0m\u001b[1;33m(\u001b[0m\u001b[0mp\u001b[0m\u001b[1;33m)\u001b[0m\u001b[1;33m)\u001b[0m\u001b[1;33m\u001b[0m\u001b[1;33m\u001b[0m\u001b[0m\n\u001b[0m",
      "\u001b[1;31mStopIteration\u001b[0m: "
     ]
    }
   ],
   "source": [
    "lst = [\"Ram\", \"Shyam\", \"Gopal\"]\n",
    "p = iter(lst)\n",
    "print( next(p) )\n",
    "print( next(p) )\n",
    "print( next(p) )\n",
    "print( next(p) )"
   ]
  },
  {
   "cell_type": "markdown",
   "id": "43c65141",
   "metadata": {},
   "source": [
    "# 27/10/2021"
   ]
  },
  {
   "cell_type": "markdown",
   "id": "74ccd751",
   "metadata": {},
   "source": [
    "1. Range function returns an iterable type of object\n",
    "2. An <b>iterator</b> is an object which will return data, one element at a time from an <b>iterable</b> object.\n",
    "3. An object is called <b>iterable</b> if we can get an <b>iterator</b> fom it."
   ]
  },
  {
   "cell_type": "code",
   "execution_count": 17,
   "id": "e5b00d8d",
   "metadata": {},
   "outputs": [
    {
     "name": "stdout",
     "output_type": "stream",
     "text": [
      "1\n",
      "2\n",
      "3\n"
     ]
    },
    {
     "ename": "StopIteration",
     "evalue": "",
     "output_type": "error",
     "traceback": [
      "\u001b[1;31m---------------------------------------------------------------------------\u001b[0m",
      "\u001b[1;31mStopIteration\u001b[0m                             Traceback (most recent call last)",
      "\u001b[1;32m<ipython-input-17-5a01a128b3c0>\u001b[0m in \u001b[0;36m<module>\u001b[1;34m\u001b[0m\n\u001b[0;32m      6\u001b[0m \u001b[0mprint\u001b[0m\u001b[1;33m(\u001b[0m\u001b[0mnext\u001b[0m\u001b[1;33m(\u001b[0m\u001b[0mp\u001b[0m\u001b[1;33m)\u001b[0m\u001b[1;33m)\u001b[0m\u001b[1;33m\u001b[0m\u001b[1;33m\u001b[0m\u001b[0m\n\u001b[0;32m      7\u001b[0m \u001b[0mprint\u001b[0m\u001b[1;33m(\u001b[0m\u001b[0mnext\u001b[0m\u001b[1;33m(\u001b[0m\u001b[0mp\u001b[0m\u001b[1;33m)\u001b[0m\u001b[1;33m)\u001b[0m\u001b[1;33m\u001b[0m\u001b[1;33m\u001b[0m\u001b[0m\n\u001b[1;32m----> 8\u001b[1;33m \u001b[0mprint\u001b[0m\u001b[1;33m(\u001b[0m\u001b[0mnext\u001b[0m\u001b[1;33m(\u001b[0m\u001b[0mp\u001b[0m\u001b[1;33m)\u001b[0m\u001b[1;33m)\u001b[0m\u001b[1;33m\u001b[0m\u001b[1;33m\u001b[0m\u001b[0m\n\u001b[0m",
      "\u001b[1;31mStopIteration\u001b[0m: "
     ]
    }
   ],
   "source": [
    "r_obj = range(1,4)\n",
    "\n",
    "p = iter(r_obj)\n",
    "\n",
    "print(next(p))\n",
    "print(next(p))\n",
    "print(next(p))\n",
    "print(next(p))"
   ]
  },
  {
   "cell_type": "code",
   "execution_count": 18,
   "id": "778320fc",
   "metadata": {},
   "outputs": [
    {
     "name": "stdout",
     "output_type": "stream",
     "text": [
      "1\n",
      "2\n",
      "3\n"
     ]
    }
   ],
   "source": [
    "r_obj = range(1,4)\n",
    "\n",
    "for x in r_obj:\n",
    "    print(x)"
   ]
  },
  {
   "cell_type": "markdown",
   "id": "23c0d442",
   "metadata": {},
   "source": [
    "# CREATING AN ITERABLE CLASS\n",
    "1. To create an class as an iterable you have to implement the methods __ iter __() and __ next __()\n",
    "- __ iter __()\n",
    "    1. This method is similar to constructor.\n",
    "    2. It is used for initilization.\n",
    "    3. but must always return the iterable object itself.\n",
    "    \n",
    "- __ next __()\n",
    "    1. This method allows us to do operations.\n",
    "    2. It must return the next item in the sequence."
   ]
  },
  {
   "cell_type": "code",
   "execution_count": 1,
   "id": "b32068a9",
   "metadata": {},
   "outputs": [
    {
     "name": "stdout",
     "output_type": "stream",
     "text": [
      "1\n",
      "2\n",
      "3\n",
      "4\n",
      "5\n"
     ]
    }
   ],
   "source": [
    "# design an iterable class myctr which will return values from 1 to ...\n",
    "\n",
    "class myctr:\n",
    "    def __iter__(self):\n",
    "        self.counter = 0\n",
    "        return self\n",
    "    def __next__(self):\n",
    "        self.counter = self.counter + 1\n",
    "        return self.counter\n",
    "    \n",
    "a = myctr()\n",
    "p = iter(a)\n",
    "print(next(p))\n",
    "print(next(p))\n",
    "print(next(p))\n",
    "print(next(p))\n",
    "print(next(p))"
   ]
  },
  {
   "cell_type": "markdown",
   "id": "520ecc5f",
   "metadata": {},
   "source": [
    "### StopIteration exception\n",
    "1. To prevent the iteration to go on forever, we can use the raise StopIteration statement.\n",
    "2. In the __ next__() method, we can add a terminating condition to raise an error if the iteration is done a specified number of times.\n",
    "    - SYNTAX:\n",
    "        > if condition:\n",
    "        >>raise StopIteration"
   ]
  },
  {
   "cell_type": "code",
   "execution_count": 22,
   "id": "a440cefd",
   "metadata": {},
   "outputs": [
    {
     "name": "stdout",
     "output_type": "stream",
     "text": [
      "1\n",
      "2\n",
      "3\n",
      "4\n",
      "5\n"
     ]
    }
   ],
   "source": [
    "#design a iterable class MyNumbers to generate first five numbers i.e. 1,2,3,4,5\n",
    "class MyNumbers:\n",
    "    def __iter__(self):\n",
    "        self.counter = 0\n",
    "        return self\n",
    "    def __next__(self):\n",
    "        if self.counter >= 5:\n",
    "            raise StopIteration\n",
    "        else:\n",
    "            self.counter = self.counter + 1\n",
    "            return self.counter\n",
    "            \n",
    "obj = MyNumbers()\n",
    "my_iter = iter(obj)\n",
    "\n",
    "for x in my_iter:\n",
    "    print(x)"
   ]
  },
  {
   "cell_type": "markdown",
   "id": "9ee11f56",
   "metadata": {},
   "source": [
    "# 28/10/2021"
   ]
  },
  {
   "cell_type": "code",
   "execution_count": 5,
   "id": "036d8dc0",
   "metadata": {},
   "outputs": [
    {
     "name": "stdout",
     "output_type": "stream",
     "text": [
      "1\n",
      "2\n",
      "3\n",
      "4\n",
      "5\n",
      "6\n"
     ]
    }
   ],
   "source": [
    "# design an iterable class MyNumbers to generate n numbers i.e. 1,2,3,4,...,n\n",
    "\n",
    "class MyNumbers:\n",
    "    def __init__(self,n):\n",
    "        self.n_th_number = n\n",
    "        \n",
    "    def __iter__(self):\n",
    "        self.counter = 0\n",
    "        return self\n",
    "    \n",
    "    def __next__(self):\n",
    "        if self.counter >= self.n_th_number :\n",
    "            raise StopIteration\n",
    "        else:\n",
    "            self.counter+=1\n",
    "            return self.counter\n",
    "        \n",
    "obj = MyNumbers(6)\n",
    "my_iter = iter(obj)\n",
    "\n",
    "for x in my_iter:\n",
    "    print(x)"
   ]
  },
  {
   "cell_type": "code",
   "execution_count": 11,
   "id": "3f54acc1",
   "metadata": {},
   "outputs": [
    {
     "name": "stdout",
     "output_type": "stream",
     "text": [
      "5\n",
      "6\n",
      "7\n",
      "8\n",
      "9\n",
      "10\n",
      "11\n",
      "12\n",
      "13\n",
      "14\n",
      "15\n",
      "16\n",
      "17\n",
      "18\n",
      "19\n"
     ]
    }
   ],
   "source": [
    "# design an iterable class my range which will generate all numbers from min val to max value\n",
    "\n",
    "class MyRange:\n",
    "    def __init__(self,min,max):\n",
    "        self.min=min\n",
    "        self.max=max\n",
    "    def __iter__(self):\n",
    "        self.counter = self.min - 1\n",
    "        return self\n",
    "    def __next__(self):\n",
    "        if self.counter >=  self.max:\n",
    "            raise StopIteration\n",
    "        else:\n",
    "            self.counter = self.counter + 1\n",
    "            return self.counter\n",
    "        \n",
    "obj = MyRange(5,19)\n",
    "my_iter = iter(obj)\n",
    "\n",
    "for x in my_iter:\n",
    "    print(x)"
   ]
  },
  {
   "cell_type": "code",
   "execution_count": 17,
   "id": "501429d6",
   "metadata": {},
   "outputs": [
    {
     "name": "stdout",
     "output_type": "stream",
     "text": [
      "5\n",
      "7\n",
      "9\n",
      "11\n",
      "13\n",
      "15\n",
      "17\n",
      "19\n"
     ]
    }
   ],
   "source": [
    "# design an iterable class myrange which will generate all numbers from min val to max value with step\n",
    "\n",
    "class MyRange:\n",
    "    def __init__(self,min,max,step=1):\n",
    "        self.min=min\n",
    "        self.max=max\n",
    "        self.step=step\n",
    "    def __iter__(self):\n",
    "        self.counter = self.min - self.step\n",
    "        return self\n",
    "    def __next__(self):\n",
    "        if self.counter >=  self.max:\n",
    "            raise StopIteration\n",
    "        else:\n",
    "            self.counter = self.counter + self.step\n",
    "            return self.counter\n",
    "        \n",
    "obj = MyRange(5,19,2)\n",
    "my_iter = iter(obj)\n",
    "\n",
    "for x in my_iter:\n",
    "    print(x)"
   ]
  },
  {
   "cell_type": "markdown",
   "id": "430f32cd",
   "metadata": {},
   "source": [
    "### GENERATING COLLECTION FROM ITERABLE\n",
    "\n",
    "1. A ieterable can be used to generate values for collection objects.\n",
    "2. This can be achieved by using constructors of list, tuples, set."
   ]
  },
  {
   "cell_type": "code",
   "execution_count": 18,
   "id": "c9e5c82b",
   "metadata": {},
   "outputs": [
    {
     "name": "stdout",
     "output_type": "stream",
     "text": [
      "[1, 2, 3, 4]\n",
      "[1, 2, 3, 4]\n"
     ]
    }
   ],
   "source": [
    "r_obj = range(1,5)\n",
    "lst = list(r_obj)\n",
    "print(lst)\n",
    "\n",
    "lst1 = list(range(1,5))\n",
    "print(lst1)"
   ]
  },
  {
   "cell_type": "markdown",
   "id": "8bb9db7b",
   "metadata": {},
   "source": [
    "### GENERATORS\n",
    "\n",
    "1. An object is called iterable if we can access data one element at a time from it.\n",
    "2. Iterator is an object which will return data, one element at a time from an iterable object.\n",
    "3. Generator are functions that allow you to declare a function that behaves like an iterable.\n",
    "4. They allow programmers to make an iterable in a fast, easy, and clean way.\n",
    "5. Simply speaking, a generator is a function that returns an object(iterator) which we can iterate over(one value at a time).\n",
    "\n",
    "#### SYNTAX:"
   ]
  },
  {
   "cell_type": "raw",
   "id": "4e949b8b",
   "metadata": {},
   "source": [
    "def myctr():\n",
    "    ctr = 0\n",
    "    whle True:\n",
    "        ctr = ctr + 1\n",
    "        yeild ctr"
   ]
  },
  {
   "cell_type": "markdown",
   "id": "43bac6d6",
   "metadata": {},
   "source": [
    "#### yeild STATEMENT\n",
    "\n",
    "1. To design a Generator function our function must return values by using yeild statement.\n",
    "2. Syntax: yeild value\n",
    "3. Due to yeild statement the value is returned but function is not terminated.\n",
    "4. The state of the function is saved.\n",
    "5. When we call this function it returned an iterator type of object.\n",
    "6. The next time when we try to get next value by calling function next(iterator), execution continues from where it left off.\n",
    "7. At the end of function it throws an Exception StopIteration automatically."
   ]
  },
  {
   "cell_type": "code",
   "execution_count": 1,
   "id": "81c25ac8",
   "metadata": {},
   "outputs": [
    {
     "ename": "SyntaxError",
     "evalue": "invalid syntax (Temp/ipykernel_5096/2942418874.py, line 2)",
     "output_type": "error",
     "traceback": [
      "\u001b[1;36m  File \u001b[1;32m\"C:\\Users\\kalam\\AppData\\Local\\Temp/ipykernel_5096/2942418874.py\"\u001b[1;36m, line \u001b[1;32m2\u001b[0m\n\u001b[1;33m    yeild 1\u001b[0m\n\u001b[1;37m          ^\u001b[0m\n\u001b[1;31mSyntaxError\u001b[0m\u001b[1;31m:\u001b[0m invalid syntax\n"
     ]
    }
   ],
   "source": [
    "def test():\n",
    "    yeild 1\n",
    "    yeild 2\n",
    "    yeild 3\n",
    "    \n",
    "p = test()\n",
    "print(next(p))\n",
    "print(next(p))\n",
    "print(next(p))\n",
    "print(next(p))"
   ]
  },
  {
   "cell_type": "markdown",
   "id": "3f653048",
   "metadata": {},
   "source": [
    "# 05/01/2021"
   ]
  },
  {
   "cell_type": "markdown",
   "id": "d14e2ca8",
   "metadata": {},
   "source": [
    "# datetime module\n",
    "\n",
    "- datetime module provides us different classes used to perform operations on date and time object.\n",
    "- ex:"
   ]
  },
  {
   "cell_type": "raw",
   "id": "783d5da4",
   "metadata": {},
   "source": [
    "import datetime as dttm\n",
    "x = dttm.datetime.now()\n",
    "print(x)"
   ]
  },
  {
   "cell_type": "code",
   "execution_count": 2,
   "id": "3e9f6751",
   "metadata": {},
   "outputs": [
    {
     "name": "stdout",
     "output_type": "stream",
     "text": [
      "2022-01-05 17:11:15.134843\n"
     ]
    }
   ],
   "source": [
    "from datetime import *\n",
    "x = datetime.now()\n",
    "print(x)"
   ]
  },
  {
   "cell_type": "markdown",
   "id": "a66fe4d5",
   "metadata": {},
   "source": [
    "### class date\n",
    "- an object of this type represents a date.\n",
    "#### Constructors\n",
    "- date(year, month, day)\n",
    "    - Creates a date from given info"
   ]
  },
  {
   "cell_type": "code",
   "execution_count": 3,
   "id": "6ee440b8",
   "metadata": {},
   "outputs": [
    {
     "name": "stdout",
     "output_type": "stream",
     "text": [
      "2020-12-27\n"
     ]
    }
   ],
   "source": [
    "from datetime import *\n",
    "dt=date(2020,12,27)\n",
    "print(dt)"
   ]
  },
  {
   "cell_type": "markdown",
   "id": "797c8019",
   "metadata": {},
   "source": [
    "### Class Methods\n",
    "- today()\n",
    "    - It returns current date."
   ]
  },
  {
   "cell_type": "code",
   "execution_count": 4,
   "id": "1dfd0e57",
   "metadata": {},
   "outputs": [
    {
     "name": "stdout",
     "output_type": "stream",
     "text": [
      "2022-01-05\n"
     ]
    }
   ],
   "source": [
    "import datetime as dttm\n",
    "dt=dttm.date.today()\n",
    "print(dt)"
   ]
  },
  {
   "cell_type": "markdown",
   "id": "87950065",
   "metadata": {},
   "source": [
    "### Properties / public data members\n",
    "- year\n",
    "- month\n",
    "- day\n",
    "    - Retruns year/month/day from date object.\n"
   ]
  },
  {
   "cell_type": "code",
   "execution_count": 5,
   "id": "76b27f1f",
   "metadata": {},
   "outputs": [
    {
     "name": "stdout",
     "output_type": "stream",
     "text": [
      "27\n",
      "12\n",
      "2020\n"
     ]
    }
   ],
   "source": [
    "from datetime import *\n",
    "dt=date(2020,12,27)\n",
    "print(dt.day)\n",
    "print(dt.month)\n",
    "print(dt.year)"
   ]
  },
  {
   "cell_type": "markdown",
   "id": "c2f3b054",
   "metadata": {},
   "source": [
    "### Methods\n",
    "1. replace(year, month, day)\n",
    "    - Return a date by replacing keyword arguments values."
   ]
  },
  {
   "cell_type": "code",
   "execution_count": 6,
   "id": "bcd182b0",
   "metadata": {},
   "outputs": [
    {
     "name": "stdout",
     "output_type": "stream",
     "text": [
      "2020-12-27\n"
     ]
    }
   ],
   "source": [
    "from datetime import *\n",
    "dt=date(2020,12,27)\n",
    "print(dt)"
   ]
  },
  {
   "cell_type": "code",
   "execution_count": 7,
   "id": "195eb973",
   "metadata": {},
   "outputs": [
    {
     "name": "stdout",
     "output_type": "stream",
     "text": [
      "2022-03-27\n"
     ]
    }
   ],
   "source": [
    "dt=dt.replace(year=2022,month=3)\n",
    "print(dt)"
   ]
  },
  {
   "cell_type": "markdown",
   "id": "7961541b",
   "metadata": {},
   "source": [
    "2. weekday()\n",
    "    - Return the day of the week, where Monday is 0 and Sunday is 6. \n",
    "3. isoweekday()\n",
    "    - Return the day of the week, where Monday is 1 and Sunday is 7."
   ]
  },
  {
   "cell_type": "code",
   "execution_count": 8,
   "id": "e3f57cdb",
   "metadata": {},
   "outputs": [
    {
     "name": "stdout",
     "output_type": "stream",
     "text": [
      "6\n"
     ]
    }
   ],
   "source": [
    "from datetime import *\n",
    "dt=date(2020,12,27)\n",
    "print(dt.weekday())"
   ]
  },
  {
   "cell_type": "code",
   "execution_count": 9,
   "id": "9874c92d",
   "metadata": {},
   "outputs": [
    {
     "name": "stdout",
     "output_type": "stream",
     "text": [
      "7\n"
     ]
    }
   ],
   "source": [
    "print(dt.isoweekday())"
   ]
  },
  {
   "cell_type": "markdown",
   "id": "e556e049",
   "metadata": {},
   "source": [
    "### class time\n",
    "- A time object represents a time of day.\n",
    "#### Constructor\n",
    "- time(hour=0, minute=0, second=0, microsecond=0)\n",
    "    - Creates a time object"
   ]
  },
  {
   "cell_type": "code",
   "execution_count": 10,
   "id": "07f07826",
   "metadata": {},
   "outputs": [
    {
     "name": "stdout",
     "output_type": "stream",
     "text": [
      "00:00:00\n"
     ]
    }
   ],
   "source": [
    "import datetime as dttm\n",
    "tm=dttm.time()\n",
    "print(tm)"
   ]
  },
  {
   "cell_type": "code",
   "execution_count": 11,
   "id": "d3be21f1",
   "metadata": {},
   "outputs": [
    {
     "name": "stdout",
     "output_type": "stream",
     "text": [
      "15:30:00\n"
     ]
    }
   ],
   "source": [
    "tm=dttm.time(15,30)\n",
    "print(tm)"
   ]
  },
  {
   "cell_type": "markdown",
   "id": "884975ad",
   "metadata": {},
   "source": [
    "### Instance attributes/properties (read-only):\n",
    "- hour\n",
    "- minute\n",
    "- second\n",
    "- microsecond\n",
    "    - returns information about different parts of time object."
   ]
  },
  {
   "cell_type": "code",
   "execution_count": 12,
   "id": "013ec0ae",
   "metadata": {},
   "outputs": [],
   "source": [
    "import datetime as dttm\n",
    "tm=dttm.time(15,30)"
   ]
  },
  {
   "cell_type": "code",
   "execution_count": 13,
   "id": "46032dcd",
   "metadata": {},
   "outputs": [
    {
     "name": "stdout",
     "output_type": "stream",
     "text": [
      "15\n"
     ]
    }
   ],
   "source": [
    "print(tm.hour)"
   ]
  },
  {
   "cell_type": "code",
   "execution_count": 14,
   "id": "8beed6be",
   "metadata": {},
   "outputs": [
    {
     "name": "stdout",
     "output_type": "stream",
     "text": [
      "30\n"
     ]
    }
   ],
   "source": [
    "print(tm.minute)"
   ]
  },
  {
   "cell_type": "code",
   "execution_count": 15,
   "id": "c05730d3",
   "metadata": {},
   "outputs": [
    {
     "name": "stdout",
     "output_type": "stream",
     "text": [
      "0\n"
     ]
    }
   ],
   "source": [
    "print(tm.second)"
   ]
  },
  {
   "cell_type": "markdown",
   "id": "ac539828",
   "metadata": {},
   "source": [
    "## class datetime\n",
    "- It contains all the information of date and time . \n",
    "### Constructor\n",
    "- datetime(year, month, day, hr=0, min=0, sec=0, microsec=0)\n",
    "    - Will create a datetime object from given information."
   ]
  },
  {
   "cell_type": "code",
   "execution_count": 16,
   "id": "ed85e92c",
   "metadata": {},
   "outputs": [
    {
     "name": "stdout",
     "output_type": "stream",
     "text": [
      "2020-12-25 02:30:00\n"
     ]
    }
   ],
   "source": [
    "import datetime as dttm\n",
    "dt=dttm.datetime(2020,12,25,2,30)\n",
    "print(dt)"
   ]
  },
  {
   "cell_type": "markdown",
   "id": "15aebf7d",
   "metadata": {},
   "source": [
    "#### Class Methods\n",
    "1. today()\n",
    "2. now()\n",
    "    - Returns the current local datetime"
   ]
  },
  {
   "cell_type": "code",
   "execution_count": 17,
   "id": "efef8b81",
   "metadata": {},
   "outputs": [
    {
     "name": "stdout",
     "output_type": "stream",
     "text": [
      "2022-01-05 17:43:14.278270\n"
     ]
    }
   ],
   "source": [
    "import datetime as dttm\n",
    "dt=dttm.datetime.today()\n",
    "print(dt)"
   ]
  },
  {
   "cell_type": "code",
   "execution_count": 18,
   "id": "5b266046",
   "metadata": {},
   "outputs": [
    {
     "name": "stdout",
     "output_type": "stream",
     "text": [
      "2022-01-05 17:43:24.357485\n"
     ]
    }
   ],
   "source": [
    "dt=dttm.datetime.now()\n",
    "print(dt)"
   ]
  },
  {
   "cell_type": "markdown",
   "id": "d77a2630",
   "metadata": {},
   "source": [
    "3. combine(date, time)\n",
    "    - Return a new datetime object from given date and time."
   ]
  },
  {
   "cell_type": "code",
   "execution_count": 19,
   "id": "1259b306",
   "metadata": {},
   "outputs": [
    {
     "name": "stdout",
     "output_type": "stream",
     "text": [
      "2020-12-25\n"
     ]
    }
   ],
   "source": [
    "import datetime as dttm\n",
    "d=dttm.date(2020,12,25)\n",
    "print(d)"
   ]
  },
  {
   "cell_type": "code",
   "execution_count": 20,
   "id": "71836c02",
   "metadata": {},
   "outputs": [
    {
     "name": "stdout",
     "output_type": "stream",
     "text": [
      "05:45:00\n"
     ]
    }
   ],
   "source": [
    "t=dttm.time(5,45)\n",
    "print(t)"
   ]
  },
  {
   "cell_type": "code",
   "execution_count": 21,
   "id": "1fb0d9d6",
   "metadata": {},
   "outputs": [
    {
     "name": "stdout",
     "output_type": "stream",
     "text": [
      "2020-12-25 05:45:00\n"
     ]
    }
   ],
   "source": [
    "dt=dttm.datetime.combine(d,t)\n",
    "print(dt)"
   ]
  },
  {
   "cell_type": "markdown",
   "id": "96f91042",
   "metadata": {},
   "source": [
    "### Properties / public attributes\n",
    "- year\n",
    "- month\n",
    "- day\n",
    "- hour\n",
    "- minute\n",
    "- second\n",
    "- microsecond\n",
    "    - Returns different parts of datetime objects information"
   ]
  },
  {
   "cell_type": "code",
   "execution_count": 22,
   "id": "a46c2851",
   "metadata": {},
   "outputs": [
    {
     "name": "stdout",
     "output_type": "stream",
     "text": [
      "2020\n"
     ]
    }
   ],
   "source": [
    "import datetime as dttm\n",
    "dt=dttm.datetime(2020,12,25,5,45)\n",
    "print(dt.year)"
   ]
  },
  {
   "cell_type": "code",
   "execution_count": 23,
   "id": "a83006ff",
   "metadata": {},
   "outputs": [
    {
     "name": "stdout",
     "output_type": "stream",
     "text": [
      "5\n"
     ]
    }
   ],
   "source": [
    "print(dt.hour)"
   ]
  },
  {
   "cell_type": "code",
   "execution_count": 24,
   "id": "8618e9c1",
   "metadata": {},
   "outputs": [
    {
     "name": "stdout",
     "output_type": "stream",
     "text": [
      "45\n"
     ]
    }
   ],
   "source": [
    "print(dt.minute)"
   ]
  },
  {
   "cell_type": "code",
   "execution_count": 25,
   "id": "32a72813",
   "metadata": {},
   "outputs": [
    {
     "name": "stdout",
     "output_type": "stream",
     "text": [
      "0\n"
     ]
    }
   ],
   "source": [
    "print(dt.second)"
   ]
  },
  {
   "cell_type": "code",
   "execution_count": 26,
   "id": "37ee48a0",
   "metadata": {},
   "outputs": [
    {
     "name": "stdout",
     "output_type": "stream",
     "text": [
      "0\n"
     ]
    }
   ],
   "source": [
    "print(dt.microsecond)\n"
   ]
  },
  {
   "cell_type": "markdown",
   "id": "c368f069",
   "metadata": {},
   "source": [
    "# 06/01/2022"
   ]
  },
  {
   "cell_type": "markdown",
   "id": "482d5dd1",
   "metadata": {},
   "source": [
    "## Formating datetime, date & time objects\n",
    "1. strftime(format) method\n",
    "    - to create a string representing the date time.\n",
    "    - Available for date, datetime, and time objects.\n"
   ]
  },
  {
   "cell_type": "code",
   "execution_count": 1,
   "id": "cdd689aa",
   "metadata": {},
   "outputs": [
    {
     "name": "stdout",
     "output_type": "stream",
     "text": [
      "Fri Dec 25 05:45:00 2020\n"
     ]
    }
   ],
   "source": [
    "import datetime as dttm\n",
    "dt=dttm.datetime(2020,12,25,5,45)\n",
    "print(dt.strftime(\"%c\"))"
   ]
  },
  {
   "cell_type": "code",
   "execution_count": 2,
   "id": "94a2db7b",
   "metadata": {},
   "outputs": [
    {
     "name": "stdout",
     "output_type": "stream",
     "text": [
      "25-12-2020\n"
     ]
    }
   ],
   "source": [
    "print(dt.strftime(\"%d-%m-%Y\"))"
   ]
  },
  {
   "cell_type": "markdown",
   "id": "2f279a5b",
   "metadata": {},
   "source": [
    "### Format specifiers\n",
    "1. %a\n",
    "    - Weekday abbreviated. Sun, Mon, . .\n",
    "2. %A\n",
    "    - Weekday full name. Sunday, Monday, . . \n",
    "3. %w\n",
    "    - Weekday in digit. 0 – Sunday 1-Monday.\n",
    "4. %d\n",
    "    - Day of the month. 01, 02, \n",
    "5. %b\n",
    "    - Month abbreviated . Jan, Feb, …, Dec \n",
    "6. %B\n",
    "    - Month full . January, February, . .\n",
    "7. %m\n",
    "    - Month in digit. 01, 02, …, 12\n",
    "8. %j\n",
    "    - Day of the year . 001, 002, …, 366\n",
    "9. %y\n",
    "    - Year without century . 00, 01\n",
    "10. %Y\n",
    "    - Year with century . 2013, 2014, . .\n",
    "11. %H\n",
    "    - Hour (24-hour clock). 00, 01, …, 23\n",
    "12. %I\n",
    "    - Hour (12-hour clock). 01, 02, …, 12\n",
    "13. %p\n",
    "    - AM or PM.\n",
    "14. %M\n",
    "    - Minute . 00, 01, …, 59\n",
    "15. %S\n",
    "    - Second . 00, 01, …, 59\n",
    "16. %f\n",
    "    - Microsecond . 000000, 000001 . .999999\n",
    "17. %c\n",
    "    - long date time . For ex : Tue Aug 16 21:30:00 1988\n",
    "18. %x\n",
    "    - short date . For ex : 08/16/88 \n",
    "19. %X\n",
    "    - short time . For ex : 21:30:00"
   ]
  },
  {
   "cell_type": "code",
   "execution_count": 7,
   "id": "3aa06cd6",
   "metadata": {},
   "outputs": [],
   "source": [
    "from datetime import *\n",
    "dt = datetime.now()"
   ]
  },
  {
   "cell_type": "code",
   "execution_count": 6,
   "id": "dadca9d0",
   "metadata": {},
   "outputs": [
    {
     "data": {
      "text/plain": [
       "datetime.datetime(2022, 1, 6, 17, 25, 27, 947327)"
      ]
     },
     "execution_count": 6,
     "metadata": {},
     "output_type": "execute_result"
    }
   ],
   "source": [
    "dt"
   ]
  },
  {
   "cell_type": "code",
   "execution_count": 8,
   "id": "ed315662",
   "metadata": {},
   "outputs": [
    {
     "name": "stdout",
     "output_type": "stream",
     "text": [
      "2022-01-06 17:25:57.682476\n"
     ]
    }
   ],
   "source": [
    "print(dt)"
   ]
  },
  {
   "cell_type": "code",
   "execution_count": 10,
   "id": "7e746c08",
   "metadata": {},
   "outputs": [
    {
     "name": "stdout",
     "output_type": "stream",
     "text": [
      "Thursday 06/01/22 17:25:&S PM\n"
     ]
    }
   ],
   "source": [
    "print(dt.strftime(\"%A %d/%m/%y %H:%M:&S %p\"))"
   ]
  },
  {
   "cell_type": "markdown",
   "id": "1bca2682",
   "metadata": {},
   "source": [
    "# FILE I/O"
   ]
  },
  {
   "cell_type": "markdown",
   "id": "ce03c0c0",
   "metadata": {},
   "source": [
    "- A File is sequence of bytes stored on secondary storage.\n",
    "- Python provides us a File object to perform i/o operations on file ."
   ]
  },
  {
   "cell_type": "markdown",
   "id": "72907a7d",
   "metadata": {},
   "source": [
    "### Open function\n",
    "- This function creates a file object.\n",
    "- The file object can be used to perform operations on file.\n",
    "- Syntax : fileobject open(fname [, accessmode])\n",
    "    - where\n",
    "        - fame − name of file.\n",
    "        - accessmode − It indicates the mode in which the file has to be opened, i.e., read, write, append, etc. (default is read )\n"
   ]
  },
  {
   "cell_type": "markdown",
   "id": "16949ce8",
   "metadata": {},
   "source": [
    "### File Modes\n",
    "<table border=\"1\">\n",
    "<tr><th>Mode </th><th> Meaning of Mode During </th><th> Inexistence of file</th></tr>\n",
    "<tr><td>r /rb </td><td>Open text/binary for reading. </td><td> If the file does not exist, open() returns None.</td></tr>\n",
    "<tr><td>w/ wb </td><td>Open text/binary for writing. </td><td> If the file exists, its contents are overwritten. If the file does not exist, it will be created.</td></tr>\n",
    "<tr><td>a/ ab </td><td>Open text/binary for append. i.e, Data is added to end of file. </td><td> If the file does not exists, it will be created.</td></tr>\n",
    "<tr><td>r+ /rb+ </td><td> Open text/binary for both reading and writing. </td><td> If the file does not exist, open() returns None.</td></tr>\n",
    "<tr><td>w+ / wb+</td><td> Open text/binary for both reading and writing. </td><td>If the file exists, its contents are overwritten. If the file does not exist, it will be created.</td></tr>\n",
    "</table>"
   ]
  },
  {
   "cell_type": "markdown",
   "id": "bc42c8af",
   "metadata": {},
   "source": [
    "# 07/01/2022"
   ]
  },
  {
   "cell_type": "markdown",
   "id": "a17f3bf2",
   "metadata": {},
   "source": [
    "### Class File\n",
    "#### Methods\n",
    "1. read([size])\n",
    "    - Reads at most size bytes from the file.\n",
    "    - If size is not specified then all contents of file will be read.\n",
    "2. readline()\n",
    "    - Reads one entire line from the file.\n",
    "    - A trailing newline character is kept in the string.\n",
    "    - Will raise an exception at eof.\n",
    "3. readlines()\n",
    "    - returna list containing the lines.\n",
    "4. write(data)\n",
    "    - Writes a data to the file.\n",
    "5. writelines(collection)\n",
    "    - Writes a sequence of strings to the file.\n",
    "6. seek(offset[, whence])\n",
    "    - Sets the file's current position\n",
    "        - Where whence\n",
    "            1. 0 – begin of file\n",
    "            2. 1 – current pos\n",
    "            3. 2 – end of file\n",
    "7. tell( )\n",
    "    - Returns the file's current position\n",
    "8. truncate([size])\n",
    "    - Truncates the file's size. If size is specified, the file is truncated to (at most) that size.\n",
    "9. close()\n",
    "    - Close the file. "
   ]
  },
  {
   "cell_type": "markdown",
   "id": "325e27a6",
   "metadata": {},
   "source": [
    "###### WAP to read contents of file info.txt"
   ]
  },
  {
   "cell_type": "code",
   "execution_count": 4,
   "id": "5063f31d",
   "metadata": {},
   "outputs": [
    {
     "name": "stdout",
     "output_type": "stream",
     "text": [
      "aditya\n",
      "123\n",
      "56\n",
      "789\n"
     ]
    }
   ],
   "source": [
    "file = open(\"ccit/info.txt\")\n",
    "data = file.read()\n",
    "print(data)\n",
    "file.close()"
   ]
  },
  {
   "cell_type": "markdown",
   "id": "1b055704",
   "metadata": {},
   "source": [
    "###### WAP to read specified no of chars of file info.txt"
   ]
  },
  {
   "cell_type": "code",
   "execution_count": 7,
   "id": "626a54b2",
   "metadata": {},
   "outputs": [
    {
     "name": "stdout",
     "output_type": "stream",
     "text": [
      "a\n",
      "ditya\n",
      "1\n"
     ]
    }
   ],
   "source": [
    "file=open(\"ccit/info.txt\")\n",
    "data=file.read(1)\n",
    "print(data)\n",
    "data=file.read(7)\n",
    "print(data)\n",
    "file.close()"
   ]
  },
  {
   "cell_type": "markdown",
   "id": "1c248619",
   "metadata": {},
   "source": [
    "###### WAP to read a line from file info.txt"
   ]
  },
  {
   "cell_type": "code",
   "execution_count": 8,
   "id": "8d9ab53f",
   "metadata": {},
   "outputs": [
    {
     "name": "stdout",
     "output_type": "stream",
     "text": [
      "aditya\n",
      "\n"
     ]
    }
   ],
   "source": [
    "file=open(\"ccit/info.txt\")\n",
    "data=file.readline()\n",
    "print(data)\n",
    "file.close()"
   ]
  },
  {
   "cell_type": "markdown",
   "id": "58a20e58",
   "metadata": {},
   "source": [
    "###### WAP to read all lines from file info.txt and display them with line nos."
   ]
  },
  {
   "cell_type": "code",
   "execution_count": 10,
   "id": "b49ec7ef",
   "metadata": {},
   "outputs": [
    {
     "name": "stdout",
     "output_type": "stream",
     "text": [
      "1 : aditya\n",
      "\n",
      "2 : 123\n",
      "\n",
      "3 : 56\n",
      "\n",
      "4 : 789\n"
     ]
    }
   ],
   "source": [
    "file=open(\"ccit/info.txt\")\n",
    "lst=file.readlines()\n",
    "i=1\n",
    "for data in lst:\n",
    "    print(i,\":\",data)\n",
    "    i=i+1\n",
    "file.close()"
   ]
  },
  {
   "cell_type": "markdown",
   "id": "6ca485de",
   "metadata": {},
   "source": [
    "###### WAP to write data into file list.txt."
   ]
  },
  {
   "cell_type": "code",
   "execution_count": 11,
   "id": "17668563",
   "metadata": {},
   "outputs": [
    {
     "name": "stdout",
     "output_type": "stream",
     "text": [
      "data stored. . .\n"
     ]
    }
   ],
   "source": [
    "file=open(\"ccit/list.txt\",\"w\")\n",
    "data=\"Amit Jain\\nRaja Rathi\\nMona Mnatri\"\n",
    "file.write(data)\n",
    "file.close()\n",
    "print(\"data stored. . .\")"
   ]
  },
  {
   "cell_type": "code",
   "execution_count": 16,
   "id": "4afe2c67",
   "metadata": {},
   "outputs": [
    {
     "name": "stdout",
     "output_type": "stream",
     "text": [
      "data stored. . .\n"
     ]
    }
   ],
   "source": [
    "file=open(\"ccit/list1.txt\",\"w\")\n",
    "data=[\"alex\",\"quinnen\",\"codex\"]\n",
    "file.writelines(data)\n",
    "file.close()\n",
    "print(\"data stored. . .\")"
   ]
  },
  {
   "cell_type": "markdown",
   "id": "af53229e",
   "metadata": {},
   "source": [
    "###### WAP to read name and add it at end of file list.txt."
   ]
  },
  {
   "cell_type": "code",
   "execution_count": 13,
   "id": "827c92e3",
   "metadata": {},
   "outputs": [
    {
     "name": "stdout",
     "output_type": "stream",
     "text": [
      "Enter Name :yo bro\n",
      "data stored. . .\n"
     ]
    }
   ],
   "source": [
    "data=input(\"Enter Name :\")\n",
    "file=open(\"ccit/list.txt\",\"a\")\n",
    "file.write(\"\\n\"+data)\n",
    "file.close()\n",
    "print(\"data stored. . .\")"
   ]
  },
  {
   "cell_type": "markdown",
   "id": "73660a0f",
   "metadata": {},
   "source": [
    "###### WAP to copy boys.png into backup.jpg"
   ]
  },
  {
   "cell_type": "code",
   "execution_count": 14,
   "id": "d18c3e2d",
   "metadata": {},
   "outputs": [
    {
     "name": "stdout",
     "output_type": "stream",
     "text": [
      "file copied\n"
     ]
    }
   ],
   "source": [
    "filex=open(\"boys.png\",\"rb\")\n",
    "data=filex.read()\n",
    "filex.close()\n",
    "filey=open(\"backup.png\",\"wb\")\n",
    "filey.write(data)\n",
    "filey.close()\n",
    "print(\"file copied\")"
   ]
  },
  {
   "cell_type": "markdown",
   "id": "98b2cb74",
   "metadata": {},
   "source": [
    "# 08/01/2022"
   ]
  },
  {
   "cell_type": "markdown",
   "id": "3bc886a9",
   "metadata": {},
   "source": [
    "## Data\n",
    "- Data is a smallest unit of information.\n",
    "\n",
    "## Database\n",
    "- \n",
    "- \n",
    "- \n"
   ]
  },
  {
   "cell_type": "markdown",
   "id": "5c576615",
   "metadata": {},
   "source": [
    "# 04/02/2022 "
   ]
  },
  {
   "cell_type": "markdown",
   "id": "de80fa9c",
   "metadata": {},
   "source": [
    "## Python Database Applications\n",
    "- To connect with any database we require a Connector /Driver.\n",
    "- Python provides us different connectors for different databases.\n",
    "- Such as \n",
    "    1. MySQL\n",
    "    2. Microsoft SQL Server \n",
    "    3. Oracle\n",
    "    4. SqlLite\n",
    "    5. Sybase\n",
    "    6. etc"
   ]
  },
  {
   "cell_type": "markdown",
   "id": "146415e3",
   "metadata": {},
   "source": [
    "## MySQL Driver/Connector\n",
    "- Python needs a MySQL driver to communicate with MySQL server.\n",
    "-  we have to Download MySQL Driver/Connector.\n",
    "-  To Install My-SQL Connector use PIP tool.\n",
    "    - pip install mysql-connector\n",
    "- This Connector /Driver is defined in package mysql"
   ]
  },
  {
   "cell_type": "markdown",
   "id": "bc8d57d4",
   "metadata": {},
   "source": [
    "### PIP\n",
    "- pip is the standard package manager for Python.\n",
    "- It allows you to install and manage additional packages that are not part of the Python standard library.\n",
    "- This tool is by default installed with python.\n",
    "- This pip tool can be executed from command prompt.\n",
    "<br><br><br>\n",
    "- Syntax to use pip tool:\n",
    "    - pip <command> [options]\n",
    "- Command can be:\n",
    "1. install :- Install packages.\n",
    "2. uninstall :- Uninstall packages.\n",
    "3. list :- List installed packages.\n",
    "4. help :- Show help for commands"
   ]
  },
  {
   "cell_type": "markdown",
   "id": "e843ed6f",
   "metadata": {},
   "source": [
    "### Class MySQLConnection\n",
    "- This class is used to manage session with database.\n",
    "- It is defined in module mysql.connector\n",
    "#### Constructor:\n",
    "- MySQLConnection(**kwargs)\n",
    "    - Will connect with database and return a Connection Object if successful.\n",
    "    - Arguments can be\n",
    "        - user : The user name used to authenticate\n",
    "        - password : password to authenticate the user\n",
    "        - database : database name\n",
    "        - host : The host name or IP address (default is localhost )\n",
    "        - port : The TCP/IP port of the MySQL server(default is 3306)\n",
    "- Note : Same be achiveied by using connect( **kargs) function."
   ]
  },
  {
   "cell_type": "markdown",
   "id": "f0ee80df",
   "metadata": {},
   "source": [
    "### Methods\n",
    "1. close( ) \n",
    "    - will close connection with database.\n",
    "2. commit( ) \n",
    "    - commits the current transaction.\n",
    "3. rollback( ) \n",
    "    - Cancels the current transaction. \n",
    "4. is_connected( ) \n",
    "    - It returns True when the connection is available, False otherwise.\n",
    "5. cursor( )\n",
    "    - This method returns a MySQLCursor() object.\n",
    "    - This Object can be used to send SQL statements to database. "
   ]
  },
  {
   "cell_type": "markdown",
   "id": "854f9a86",
   "metadata": {},
   "source": [
    "###### WAP to connect with a database ccitdb present on your local system.( userid=root password =787898 )"
   ]
  },
  {
   "cell_type": "code",
   "execution_count": 3,
   "id": "653b2a81",
   "metadata": {},
   "outputs": [
    {
     "name": "stdout",
     "output_type": "stream",
     "text": [
      "Connected...\n"
     ]
    }
   ],
   "source": [
    "import mysql.connector as sql\n",
    "try:\n",
    "    conn=sql.MySQLConnection(user=\"root\",password=\"787898\",database=\"ccitdb\")\n",
    "    print(\"Connected...\")\n",
    "    conn.close()\n",
    "except Exception as e:\n",
    "    print(\"Failed to Connect\",e)"
   ]
  },
  {
   "cell_type": "markdown",
   "id": "4f1a1b86",
   "metadata": {},
   "source": [
    "### Class MySQLCursor\n",
    "- It is used to send a sql statement to database.\n",
    "- MySQL cursor is read-only and non-scrollable.\n",
    "- Read-only\n",
    "    - you cannot update data in the underlying table through the cursor.\n",
    "- Non-scrollable\n",
    "    - you can only fetch rows in the order determined by the SELECT statement. \n",
    "    - You cannot fetch rows in the reversed order. \n",
    "    - you cannot skip rows or jump to a specific row in the result set.\n",
    "#### Constructor\n",
    "- MySQLCursor(MySQLConnection )\n",
    "    - Creates a cursor from a connection object."
   ]
  },
  {
   "cell_type": "markdown",
   "id": "ccd7ee40",
   "metadata": {},
   "source": [
    "### Methods\n",
    "- execute(query, params=None)\n",
    "    - This method executes the given query or command. \n",
    "    - For insert / update / delete operation we can check how many rows affected by using cursor property rowcount.\n",
    "    - The params argument is used to pass parameter values of the query.\n",
    "- fetchone( )\n",
    "    - This method return one single record as list.\n",
    "- fetchall( )\n",
    "    - This method return all records as multidimensional list.\n",
    "- fetchmany(SIZE)\n",
    "    - This method return specific number of records.\n",
    "### Properties\n",
    "- rowcount\n",
    "    - Indicates no of rows affected\n",
    "- with_rows\n",
    "    - returns True or False to indicate whether the most recently executed operation produced rows."
   ]
  },
  {
   "cell_type": "markdown",
   "id": "cad29c7c",
   "metadata": {},
   "source": [
    "###### WAP to insert a record into table accmaster. Database=ccitdb user=root password=787898\n"
   ]
  },
  {
   "cell_type": "code",
   "execution_count": 4,
   "id": "f0f4b3b4",
   "metadata": {},
   "outputs": [
    {
     "name": "stdout",
     "output_type": "stream",
     "text": [
      "Record Inserted...\n"
     ]
    }
   ],
   "source": [
    "import mysql.connector as sql\n",
    "try:\n",
    "    mydb=sql.MySQLConnection(user=\"root\",password=\"787898\",database=\"ccitdb\")\n",
    "    smt=\"insert into accmaster values(1010,'Raj Joshi',25000)\"\n",
    "    cur=mydb.cursor()\n",
    "    cur.execute(smt)\n",
    "    if cur.rowcount==1:\n",
    "        print(\"Record Inserted...\")\n",
    "        mydb.commit()\n",
    "    mydb.close()\n",
    "except Error as e:\n",
    "    print(\"Failed to Connect\",e)"
   ]
  },
  {
   "cell_type": "code",
   "execution_count": null,
   "id": "d3d1ba86",
   "metadata": {},
   "outputs": [],
   "source": []
  }
 ],
 "metadata": {
  "kernelspec": {
   "display_name": "Python 3 (ipykernel)",
   "language": "python",
   "name": "python3"
  },
  "language_info": {
   "codemirror_mode": {
    "name": "ipython",
    "version": 3
   },
   "file_extension": ".py",
   "mimetype": "text/x-python",
   "name": "python",
   "nbconvert_exporter": "python",
   "pygments_lexer": "ipython3",
   "version": "3.9.7"
  }
 },
 "nbformat": 4,
 "nbformat_minor": 5
}
